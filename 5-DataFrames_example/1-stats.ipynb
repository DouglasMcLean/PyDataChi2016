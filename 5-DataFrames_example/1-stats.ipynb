{
 "cells": [
  {
   "cell_type": "markdown",
   "metadata": {},
   "source": [
    "## StatsBase.jl"
   ]
  },
  {
   "cell_type": "code",
   "execution_count": 12,
   "metadata": {
    "collapsed": false
   },
   "outputs": [
    {
     "name": "stdout",
     "output_type": "stream",
     "text": [
      "mean(x) = 0.5163449354910267\n",
      "std(x) = 0.29616333210504353\n",
      "var(x) = 0.08771271928356232\n"
     ]
    },
    {
     "data": {
      "text/plain": [
       "0.08771271928356232"
      ]
     },
     "execution_count": 12,
     "metadata": {},
     "output_type": "execute_result"
    }
   ],
   "source": [
    "x = rand(100)  \n",
    "@show mean(x)\n",
    "@show std(x)\n",
    "@show var(x)"
   ]
  },
  {
   "cell_type": "code",
   "execution_count": 13,
   "metadata": {
    "collapsed": false
   },
   "outputs": [],
   "source": [
    "using StatsBase #if using StatsBase for the first time, call Pkg.add(\"StatsBase\") first"
   ]
  },
  {
   "cell_type": "code",
   "execution_count": 14,
   "metadata": {
    "collapsed": false
   },
   "outputs": [
    {
     "name": "stdout",
     "output_type": "stream",
     "text": [
      "Summary Stats:\n",
      "Mean:         0.516345\n",
      "Minimum:      0.007617\n",
      "1st Quartile: 0.252998\n",
      "Median:       0.532069\n",
      "3rd Quartile: 0.775473\n",
      "Maximum:      0.990465\n"
     ]
    }
   ],
   "source": [
    "describe(x)"
   ]
  },
  {
   "cell_type": "code",
   "execution_count": 15,
   "metadata": {
    "collapsed": false
   },
   "outputs": [
    {
     "data": {
      "text/plain": [
       "0.37611310534702563"
      ]
     },
     "execution_count": 15,
     "metadata": {},
     "output_type": "execute_result"
    }
   ],
   "source": [
    "geomean(x) #geometric mean"
   ]
  },
  {
   "cell_type": "code",
   "execution_count": 16,
   "metadata": {
    "collapsed": false
   },
   "outputs": [
    {
     "data": {
      "text/plain": [
       "100-element Array{Float64,1}:\n",
       "  0.523092\n",
       " -1.3404  \n",
       "  1.60088 \n",
       " -1.20614 \n",
       "  0.52571 \n",
       "  0.281257\n",
       " -0.859252\n",
       " -0.590307\n",
       " -1.41648 \n",
       "  1.11432 \n",
       " -0.790043\n",
       "  0.561397\n",
       "  0.462136\n",
       "  ⋮       \n",
       " -1.06849 \n",
       " -1.64511 \n",
       " -0.573878\n",
       " -0.344221\n",
       " -0.149365\n",
       "  0.322669\n",
       "  1.47734 \n",
       "  1.222   \n",
       "  1.45274 \n",
       "  1.11145 \n",
       "  0.735009\n",
       "  1.42137 "
      ]
     },
     "execution_count": 16,
     "metadata": {},
     "output_type": "execute_result"
    }
   ],
   "source": [
    "zscore(x, mean(x), std(x))"
   ]
  }
 ],
 "metadata": {
  "anaconda-cloud": {},
  "kernelspec": {
   "display_name": "Julia 0.4.6",
   "language": "julia",
   "name": "julia-0.4"
  },
  "language_info": {
   "file_extension": ".jl",
   "mimetype": "application/julia",
   "name": "julia",
   "version": "0.4.6"
  }
 },
 "nbformat": 4,
 "nbformat_minor": 0
}
