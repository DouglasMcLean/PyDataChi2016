{
 "cells": [
  {
   "cell_type": "markdown",
   "metadata": {},
   "source": [
    "### Let's start by adding the packages we will need"
   ]
  },
  {
   "cell_type": "code",
   "execution_count": 55,
   "metadata": {
    "collapsed": false
   },
   "outputs": [],
   "source": [
    "using DataFrames\n",
    "using RDatasets"
   ]
  },
  {
   "cell_type": "markdown",
   "metadata": {},
   "source": [
    "### Cool things about DataFrames.jl:"
   ]
  },
  {
   "cell_type": "code",
   "execution_count": 22,
   "metadata": {
    "collapsed": false
   },
   "outputs": [
    {
     "name": "stdout",
     "output_type": "stream",
     "text": [
      "a = NA\n",
      "b = NA\n",
      "type_a = DataArrays.NAtype\n"
     ]
    },
    {
     "data": {
      "text/plain": [
       "DataArrays.NAtype"
      ]
     },
     "execution_count": 22,
     "metadata": {},
     "output_type": "execute_result"
    }
   ],
   "source": [
    "# introductin NA\n",
    "a = NA\n",
    "b = a+1\n",
    "type_a = typeof(a)\n",
    "@show a\n",
    "@show b\n",
    "@show type_a"
   ]
  },
  {
   "cell_type": "code",
   "execution_count": 23,
   "metadata": {
    "collapsed": false
   },
   "outputs": [
    {
     "name": "stdout",
     "output_type": "stream",
     "text": [
      "states = ASCIIString[NA,\"Indiana\",\"Illinois\",\"Michigan\"]\n",
      "type_states = DataArrays.DataArray{ASCIIString,1}\n"
     ]
    },
    {
     "data": {
      "text/plain": [
       "DataArrays.DataArray{ASCIIString,1}"
      ]
     },
     "execution_count": 23,
     "metadata": {},
     "output_type": "execute_result"
    }
   ],
   "source": [
    "# a simple DataArray\n",
    "states = @data([NA, \"Indiana\", \"Illinois\", \"Michigan\"])\n",
    "type_states = typeof(states)\n",
    "@show states\n",
    "@show type_states"
   ]
  },
  {
   "cell_type": "code",
   "execution_count": 13,
   "metadata": {
    "collapsed": false
   },
   "outputs": [
    {
     "name": "stdout",
     "output_type": "stream",
     "text": [
      "numbers = [NA,1,2,3]\n"
     ]
    },
    {
     "data": {
      "text/plain": [
       "4-element DataArrays.DataArray{Int64,1}:\n",
       "  NA\n",
       " 1  \n",
       " 2  \n",
       " 3  "
      ]
     },
     "execution_count": 13,
     "metadata": {},
     "output_type": "execute_result"
    }
   ],
   "source": [
    "numbers = @data([NA,1,2,3])\n",
    "@show numbers"
   ]
  },
  {
   "cell_type": "code",
   "execution_count": 14,
   "metadata": {
    "collapsed": false
   },
   "outputs": [
    {
     "data": {
      "text/plain": [
       "NA"
      ]
     },
     "execution_count": 14,
     "metadata": {},
     "output_type": "execute_result"
    }
   ],
   "source": [
    "avg = mean(numbers)"
   ]
  },
  {
   "cell_type": "code",
   "execution_count": 15,
   "metadata": {
    "collapsed": false
   },
   "outputs": [
    {
     "name": "stdout",
     "output_type": "stream",
     "text": [
      "avg_dropna = 2.0\n",
      "avg_keepna_countas = 1.5\n"
     ]
    },
    {
     "data": {
      "text/plain": [
       "1.5"
      ]
     },
     "execution_count": 15,
     "metadata": {},
     "output_type": "execute_result"
    }
   ],
   "source": [
    "avg_dropna = mean(dropna(numbers))\n",
    "avg_keepna_countas = mean(convert(Array,numbers,0))\n",
    "@show avg_dropna\n",
    "@show avg_keepna_countas"
   ]
  },
  {
   "cell_type": "code",
   "execution_count": 19,
   "metadata": {
    "collapsed": false
   },
   "outputs": [
    {
     "name": "stdout",
     "output_type": "stream",
     "text": [
      "numbers_reshaped = [NA 2\n",
      " 1 3]\n",
      "matmat_withna = [NA NA\n",
      " NA 11]\n"
     ]
    },
    {
     "data": {
      "text/plain": [
       "2x2 DataArrays.DataArray{Int64,2}:\n",
       " NA    NA\n",
       " NA  11  "
      ]
     },
     "execution_count": 19,
     "metadata": {},
     "output_type": "execute_result"
    }
   ],
   "source": [
    "numbers_reshaped = reshape(numbers,2,2)\n",
    "matmat_withna = numbers_reshaped*numbers_reshaped\n",
    "@show numbers_reshaped\n",
    "@show matmat_withna"
   ]
  },
  {
   "cell_type": "code",
   "execution_count": 5,
   "metadata": {
    "collapsed": false
   },
   "outputs": [
    {
     "name": "stdout",
     "output_type": "stream",
     "text": [
      "df = 3×2 DataFrames.DataFrame\n",
      "│ Row │ names   │ ages │\n",
      "├─────┼─────────┼──────┤\n",
      "│ 1   │ \"Tia\"   │ 29   │\n",
      "│ 2   │ \"Rena\"  │ 29   │\n",
      "│ 3   │ \"Helen\" │ 23   │\n"
     ]
    },
    {
     "data": {
      "text/html": [
       "<table class=\"data-frame\"><tr><th></th><th>names</th><th>ages</th></tr><tr><th>1</th><td>Tia</td><td>29</td></tr><tr><th>2</th><td>Rena</td><td>29</td></tr><tr><th>3</th><td>Helen</td><td>23</td></tr></table>"
      ],
      "text/plain": [
       "3×2 DataFrames.DataFrame\n",
       "│ Row │ names   │ ages │\n",
       "├─────┼─────────┼──────┤\n",
       "│ 1   │ \"Tia\"   │ 29   │\n",
       "│ 2   │ \"Rena\"  │ 29   │\n",
       "│ 3   │ \"Helen\" │ 23   │"
      ]
     },
     "execution_count": 5,
     "metadata": {},
     "output_type": "execute_result"
    }
   ],
   "source": [
    "# a basic dataframe\n",
    "n = [\"Tia\",\"Rena\",\"Helen\"]\n",
    "a = [29,29,23]\n",
    "df = DataFrame(names = n, ages = a)\n",
    "@show df"
   ]
  },
  {
   "cell_type": "code",
   "execution_count": 6,
   "metadata": {
    "collapsed": false
   },
   "outputs": [
    {
     "name": "stdout",
     "output_type": "stream",
     "text": [
      "dff = 3×2 DataFrames.DataFrame\n",
      "│ Row │ names   │ income │\n",
      "├─────┼─────────┼────────┤\n",
      "│ 1   │ \"Tia\"   │ 40000  │\n",
      "│ 2   │ \"Rena\"  │ 100000 │\n",
      "│ 3   │ \"Helen\" │ 10000  │\n"
     ]
    },
    {
     "data": {
      "text/html": [
       "<table class=\"data-frame\"><tr><th></th><th>names</th><th>income</th></tr><tr><th>1</th><td>Tia</td><td>40000</td></tr><tr><th>2</th><td>Rena</td><td>100000</td></tr><tr><th>3</th><td>Helen</td><td>10000</td></tr></table>"
      ],
      "text/plain": [
       "3×2 DataFrames.DataFrame\n",
       "│ Row │ names   │ income │\n",
       "├─────┼─────────┼────────┤\n",
       "│ 1   │ \"Tia\"   │ 40000  │\n",
       "│ 2   │ \"Rena\"  │ 100000 │\n",
       "│ 3   │ \"Helen\" │ 10000  │"
      ]
     },
     "execution_count": 6,
     "metadata": {},
     "output_type": "execute_result"
    }
   ],
   "source": [
    "n = [\"Tia\",\"Rena\",\"Helen\"]\n",
    "inc = [40000,100000,10000]\n",
    "dff = DataFrame(names = n, income = inc)\n",
    "@show dff"
   ]
  },
  {
   "cell_type": "code",
   "execution_count": 7,
   "metadata": {
    "collapsed": false
   },
   "outputs": [
    {
     "data": {
      "text/html": [
       "<table class=\"data-frame\"><tr><th></th><th>names</th><th>ages</th><th>income</th></tr><tr><th>1</th><td>Helen</td><td>23</td><td>10000</td></tr><tr><th>2</th><td>Rena</td><td>29</td><td>100000</td></tr><tr><th>3</th><td>Tia</td><td>29</td><td>40000</td></tr></table>"
      ],
      "text/plain": [
       "3×3 DataFrames.DataFrame\n",
       "│ Row │ names   │ ages │ income │\n",
       "├─────┼─────────┼──────┼────────┤\n",
       "│ 1   │ \"Helen\" │ 23   │ 10000  │\n",
       "│ 2   │ \"Rena\"  │ 29   │ 100000 │\n",
       "│ 3   │ \"Tia\"   │ 29   │ 40000  │"
      ]
     },
     "execution_count": 7,
     "metadata": {},
     "output_type": "execute_result"
    }
   ],
   "source": [
    "join(df,dff,on=:names)"
   ]
  },
  {
   "cell_type": "code",
   "execution_count": 3,
   "metadata": {
    "collapsed": false
   },
   "outputs": [
    {
     "ename": "LoadError",
     "evalue": "LoadError: UndefVarError: df not defined\nwhile loading In[3], in expression starting on line 2",
     "output_type": "error",
     "traceback": [
      "LoadError: UndefVarError: df not defined\nwhile loading In[3], in expression starting on line 2",
      ""
     ]
    }
   ],
   "source": [
    "# access columns\n",
    "allnames1 = df[:names]\n",
    "allnames2 = df[1]\n",
    "@show allnames1\n",
    "@show allnames2"
   ]
  },
  {
   "cell_type": "code",
   "execution_count": 30,
   "metadata": {
    "collapsed": false
   },
   "outputs": [
    {
     "name": "stdout",
     "output_type": "stream",
     "text": [
      "names\n",
      "Length  3\n",
      "Type    ASCIIString\n",
      "NAs     0\n",
      "NA%     0.0%\n",
      "Unique  3\n",
      "\n",
      "ages\n",
      "Min      3.0\n",
      "1st Qu.  6.0\n",
      "Median   9.0\n",
      "Mean     7.0\n",
      "3rd Qu.  9.0\n",
      "Max      9.0\n",
      "NAs      0\n",
      "NA%      0.0%\n",
      "\n"
     ]
    }
   ],
   "source": [
    "describe(df)"
   ]
  },
  {
   "cell_type": "code",
   "execution_count": 34,
   "metadata": {
    "collapsed": false
   },
   "outputs": [
    {
     "data": {
      "text/html": [
       "<table class=\"data-frame\"><tr><th></th><th>SepalLength</th><th>SepalWidth</th><th>PetalLength</th><th>PetalWidth</th><th>Species</th></tr><tr><th>1</th><td>5.1</td><td>3.5</td><td>1.4</td><td>0.2</td><td>setosa</td></tr><tr><th>2</th><td>4.9</td><td>3.0</td><td>1.4</td><td>0.2</td><td>setosa</td></tr><tr><th>3</th><td>4.7</td><td>3.2</td><td>1.3</td><td>0.2</td><td>setosa</td></tr><tr><th>4</th><td>4.6</td><td>3.1</td><td>1.5</td><td>0.2</td><td>setosa</td></tr><tr><th>5</th><td>5.0</td><td>3.6</td><td>1.4</td><td>0.2</td><td>setosa</td></tr><tr><th>6</th><td>5.4</td><td>3.9</td><td>1.7</td><td>0.4</td><td>setosa</td></tr><tr><th>7</th><td>4.6</td><td>3.4</td><td>1.4</td><td>0.3</td><td>setosa</td></tr><tr><th>8</th><td>5.0</td><td>3.4</td><td>1.5</td><td>0.2</td><td>setosa</td></tr><tr><th>9</th><td>4.4</td><td>2.9</td><td>1.4</td><td>0.2</td><td>setosa</td></tr><tr><th>10</th><td>4.9</td><td>3.1</td><td>1.5</td><td>0.1</td><td>setosa</td></tr><tr><th>11</th><td>5.4</td><td>3.7</td><td>1.5</td><td>0.2</td><td>setosa</td></tr><tr><th>12</th><td>4.8</td><td>3.4</td><td>1.6</td><td>0.2</td><td>setosa</td></tr><tr><th>13</th><td>4.8</td><td>3.0</td><td>1.4</td><td>0.1</td><td>setosa</td></tr><tr><th>14</th><td>4.3</td><td>3.0</td><td>1.1</td><td>0.1</td><td>setosa</td></tr><tr><th>15</th><td>5.8</td><td>4.0</td><td>1.2</td><td>0.2</td><td>setosa</td></tr><tr><th>16</th><td>5.7</td><td>4.4</td><td>1.5</td><td>0.4</td><td>setosa</td></tr><tr><th>17</th><td>5.4</td><td>3.9</td><td>1.3</td><td>0.4</td><td>setosa</td></tr><tr><th>18</th><td>5.1</td><td>3.5</td><td>1.4</td><td>0.3</td><td>setosa</td></tr><tr><th>19</th><td>5.7</td><td>3.8</td><td>1.7</td><td>0.3</td><td>setosa</td></tr><tr><th>20</th><td>5.1</td><td>3.8</td><td>1.5</td><td>0.3</td><td>setosa</td></tr><tr><th>21</th><td>5.4</td><td>3.4</td><td>1.7</td><td>0.2</td><td>setosa</td></tr><tr><th>22</th><td>5.1</td><td>3.7</td><td>1.5</td><td>0.4</td><td>setosa</td></tr><tr><th>23</th><td>4.6</td><td>3.6</td><td>1.0</td><td>0.2</td><td>setosa</td></tr><tr><th>24</th><td>5.1</td><td>3.3</td><td>1.7</td><td>0.5</td><td>setosa</td></tr><tr><th>25</th><td>4.8</td><td>3.4</td><td>1.9</td><td>0.2</td><td>setosa</td></tr><tr><th>26</th><td>5.0</td><td>3.0</td><td>1.6</td><td>0.2</td><td>setosa</td></tr><tr><th>27</th><td>5.0</td><td>3.4</td><td>1.6</td><td>0.4</td><td>setosa</td></tr><tr><th>28</th><td>5.2</td><td>3.5</td><td>1.5</td><td>0.2</td><td>setosa</td></tr><tr><th>29</th><td>5.2</td><td>3.4</td><td>1.4</td><td>0.2</td><td>setosa</td></tr><tr><th>30</th><td>4.7</td><td>3.2</td><td>1.6</td><td>0.2</td><td>setosa</td></tr><tr><th>&vellip;</th><td>&vellip;</td><td>&vellip;</td><td>&vellip;</td><td>&vellip;</td><td>&vellip;</td></tr></table>"
      ],
      "text/plain": [
       "150×5 DataFrames.DataFrame\n",
       "│ Row │ SepalLength │ SepalWidth │ PetalLength │ PetalWidth │ Species     │\n",
       "├─────┼─────────────┼────────────┼─────────────┼────────────┼─────────────┤\n",
       "│ 1   │ 5.1         │ 3.5        │ 1.4         │ 0.2        │ \"setosa\"    │\n",
       "│ 2   │ 4.9         │ 3.0        │ 1.4         │ 0.2        │ \"setosa\"    │\n",
       "│ 3   │ 4.7         │ 3.2        │ 1.3         │ 0.2        │ \"setosa\"    │\n",
       "│ 4   │ 4.6         │ 3.1        │ 1.5         │ 0.2        │ \"setosa\"    │\n",
       "│ 5   │ 5.0         │ 3.6        │ 1.4         │ 0.2        │ \"setosa\"    │\n",
       "│ 6   │ 5.4         │ 3.9        │ 1.7         │ 0.4        │ \"setosa\"    │\n",
       "│ 7   │ 4.6         │ 3.4        │ 1.4         │ 0.3        │ \"setosa\"    │\n",
       "│ 8   │ 5.0         │ 3.4        │ 1.5         │ 0.2        │ \"setosa\"    │\n",
       "│ 9   │ 4.4         │ 2.9        │ 1.4         │ 0.2        │ \"setosa\"    │\n",
       "│ 10  │ 4.9         │ 3.1        │ 1.5         │ 0.1        │ \"setosa\"    │\n",
       "│ 11  │ 5.4         │ 3.7        │ 1.5         │ 0.2        │ \"setosa\"    │\n",
       "⋮\n",
       "│ 139 │ 6.0         │ 3.0        │ 4.8         │ 1.8        │ \"virginica\" │\n",
       "│ 140 │ 6.9         │ 3.1        │ 5.4         │ 2.1        │ \"virginica\" │\n",
       "│ 141 │ 6.7         │ 3.1        │ 5.6         │ 2.4        │ \"virginica\" │\n",
       "│ 142 │ 6.9         │ 3.1        │ 5.1         │ 2.3        │ \"virginica\" │\n",
       "│ 143 │ 5.8         │ 2.7        │ 5.1         │ 1.9        │ \"virginica\" │\n",
       "│ 144 │ 6.8         │ 3.2        │ 5.9         │ 2.3        │ \"virginica\" │\n",
       "│ 145 │ 6.7         │ 3.3        │ 5.7         │ 2.5        │ \"virginica\" │\n",
       "│ 146 │ 6.7         │ 3.0        │ 5.2         │ 2.3        │ \"virginica\" │\n",
       "│ 147 │ 6.3         │ 2.5        │ 5.0         │ 1.9        │ \"virginica\" │\n",
       "│ 148 │ 6.5         │ 3.0        │ 5.2         │ 2.0        │ \"virginica\" │\n",
       "│ 149 │ 6.2         │ 3.4        │ 5.4         │ 2.3        │ \"virginica\" │\n",
       "│ 150 │ 5.9         │ 3.0        │ 5.1         │ 1.8        │ \"virginica\" │"
      ]
     },
     "execution_count": 34,
     "metadata": {},
     "output_type": "execute_result"
    }
   ],
   "source": [
    "# datasets\n",
    "iris = dataset(\"datasets\", \"iris\")"
   ]
  },
  {
   "cell_type": "code",
   "execution_count": null,
   "metadata": {
    "collapsed": true
   },
   "outputs": [],
   "source": [
    "by(iris, :Species, df->mean(df[:PetalLength]))"
   ]
  },
  {
   "cell_type": "code",
   "execution_count": 40,
   "metadata": {
    "collapsed": false
   },
   "outputs": [
    {
     "name": "stdout",
     "output_type": "stream",
     "text": [
      "mean(iris[:SepalLength]) = 5.843333333333334\n",
      "median(iris[:SepalLength]) = 5.8\n",
      "head(iris) = 6×5 DataFrames.DataFrame\n",
      "│ Row │ SepalLength │ SepalWidth │ PetalLength │ PetalWidth │ Species  │\n",
      "├─────┼─────────────┼────────────┼─────────────┼────────────┼──────────┤\n",
      "│ 1   │ 5.1         │ 3.5        │ 1.4         │ 0.2        │ \"setosa\" │\n",
      "│ 2   │ 4.9         │ 3.0        │ 1.4         │ 0.2        │ \"setosa\" │\n",
      "│ 3   │ 4.7         │ 3.2        │ 1.3         │ 0.2        │ \"setosa\" │\n",
      "│ 4   │ 4.6         │ 3.1        │ 1.5         │ 0.2        │ \"setosa\" │\n",
      "│ 5   │ 5.0         │ 3.6        │ 1.4         │ 0.2        │ \"setosa\" │\n",
      "│ 6   │ 5.4         │ 3.9        │ 1.7         │ 0.4        │ \"setosa\" │\n",
      "colwise(median,iris[1:4]) = Any[[5.8],[3.0],[4.35],[1.3]]\n"
     ]
    },
    {
     "data": {
      "text/plain": [
       "4-element Array{Any,1}:\n",
       " [5.8] \n",
       " [3.0] \n",
       " [4.35]\n",
       " [1.3] "
      ]
     },
     "execution_count": 40,
     "metadata": {},
     "output_type": "execute_result"
    }
   ],
   "source": [
    "# more functions:\n",
    "# mean\n",
    "@show mean(iris[:SepalLength])\n",
    "@show median(iris[:SepalLength])\n",
    "@show head(iris)\n",
    "@show colwise(median,iris[1:4])"
   ]
  },
  {
   "cell_type": "code",
   "execution_count": 41,
   "metadata": {
    "collapsed": false
   },
   "outputs": [
    {
     "data": {
      "text/html": [
       "<table class=\"data-frame\"><tr><th></th><th>street</th><th>city</th><th>zip</th><th>state</th><th>beds</th><th>baths</th><th>sq__ft</th><th>_type</th><th>sale_date</th><th>price</th><th>latitude</th><th>longitude</th></tr><tr><th>1</th><td>3526 HIGH ST</td><td>SACRAMENTO</td><td>95838</td><td>CA</td><td>2</td><td>1</td><td>836</td><td>Residential</td><td>Wed May 21 00:00:00 EDT 2008</td><td>59222</td><td>38.631913</td><td>-121.434879</td></tr><tr><th>2</th><td>51 OMAHA CT</td><td>SACRAMENTO</td><td>95823</td><td>CA</td><td>3</td><td>1</td><td>1167</td><td>Residential</td><td>Wed May 21 00:00:00 EDT 2008</td><td>68212</td><td>38.478902</td><td>-121.431028</td></tr><tr><th>3</th><td>2796 BRANCH ST</td><td>SACRAMENTO</td><td>95815</td><td>CA</td><td>2</td><td>1</td><td>796</td><td>Residential</td><td>Wed May 21 00:00:00 EDT 2008</td><td>68880</td><td>38.618305</td><td>-121.443839</td></tr><tr><th>4</th><td>2805 JANETTE WAY</td><td>SACRAMENTO</td><td>95815</td><td>CA</td><td>2</td><td>1</td><td>852</td><td>Residential</td><td>Wed May 21 00:00:00 EDT 2008</td><td>69307</td><td>38.616835</td><td>-121.439146</td></tr><tr><th>5</th><td>6001 MCMAHON DR</td><td>SACRAMENTO</td><td>95824</td><td>CA</td><td>2</td><td>1</td><td>797</td><td>Residential</td><td>Wed May 21 00:00:00 EDT 2008</td><td>81900</td><td>38.51947</td><td>-121.435768</td></tr><tr><th>6</th><td>5828 PEPPERMILL CT</td><td>SACRAMENTO</td><td>95841</td><td>CA</td><td>3</td><td>1</td><td>1122</td><td>Condo</td><td>Wed May 21 00:00:00 EDT 2008</td><td>89921</td><td>38.662595</td><td>-121.327813</td></tr><tr><th>7</th><td>6048 OGDEN NASH WAY</td><td>SACRAMENTO</td><td>95842</td><td>CA</td><td>3</td><td>2</td><td>1104</td><td>Residential</td><td>Wed May 21 00:00:00 EDT 2008</td><td>90895</td><td>38.681659</td><td>-121.351705</td></tr><tr><th>8</th><td>2561 19TH AVE</td><td>SACRAMENTO</td><td>95820</td><td>CA</td><td>3</td><td>1</td><td>1177</td><td>Residential</td><td>Wed May 21 00:00:00 EDT 2008</td><td>91002</td><td>38.535092</td><td>-121.481367</td></tr><tr><th>9</th><td>11150 TRINITY RIVER DR Unit 114</td><td>RANCHO CORDOVA</td><td>95670</td><td>CA</td><td>2</td><td>2</td><td>941</td><td>Condo</td><td>Wed May 21 00:00:00 EDT 2008</td><td>94905</td><td>38.621188</td><td>-121.270555</td></tr><tr><th>10</th><td>7325 10TH ST</td><td>RIO LINDA</td><td>95673</td><td>CA</td><td>3</td><td>2</td><td>1146</td><td>Residential</td><td>Wed May 21 00:00:00 EDT 2008</td><td>98937</td><td>38.700909</td><td>-121.442979</td></tr><tr><th>11</th><td>645 MORRISON AVE</td><td>SACRAMENTO</td><td>95838</td><td>CA</td><td>3</td><td>2</td><td>909</td><td>Residential</td><td>Wed May 21 00:00:00 EDT 2008</td><td>100309</td><td>38.637663</td><td>-121.45152</td></tr><tr><th>12</th><td>4085 FAWN CIR</td><td>SACRAMENTO</td><td>95823</td><td>CA</td><td>3</td><td>2</td><td>1289</td><td>Residential</td><td>Wed May 21 00:00:00 EDT 2008</td><td>106250</td><td>38.470746</td><td>-121.458918</td></tr><tr><th>13</th><td>2930 LA ROSA RD</td><td>SACRAMENTO</td><td>95815</td><td>CA</td><td>1</td><td>1</td><td>871</td><td>Residential</td><td>Wed May 21 00:00:00 EDT 2008</td><td>106852</td><td>38.618698</td><td>-121.435833</td></tr><tr><th>14</th><td>2113 KIRK WAY</td><td>SACRAMENTO</td><td>95822</td><td>CA</td><td>3</td><td>1</td><td>1020</td><td>Residential</td><td>Wed May 21 00:00:00 EDT 2008</td><td>107502</td><td>38.482215</td><td>-121.492603</td></tr><tr><th>15</th><td>4533 LOCH HAVEN WAY</td><td>SACRAMENTO</td><td>95842</td><td>CA</td><td>2</td><td>2</td><td>1022</td><td>Residential</td><td>Wed May 21 00:00:00 EDT 2008</td><td>108750</td><td>38.672914</td><td>-121.35934</td></tr><tr><th>16</th><td>7340 HAMDEN PL</td><td>SACRAMENTO</td><td>95842</td><td>CA</td><td>2</td><td>2</td><td>1134</td><td>Condo</td><td>Wed May 21 00:00:00 EDT 2008</td><td>110700</td><td>38.700051</td><td>-121.351278</td></tr><tr><th>17</th><td>6715 6TH ST</td><td>RIO LINDA</td><td>95673</td><td>CA</td><td>2</td><td>1</td><td>844</td><td>Residential</td><td>Wed May 21 00:00:00 EDT 2008</td><td>113263</td><td>38.689591</td><td>-121.452239</td></tr><tr><th>18</th><td>6236 LONGFORD DR Unit 1</td><td>CITRUS HEIGHTS</td><td>95621</td><td>CA</td><td>2</td><td>1</td><td>795</td><td>Condo</td><td>Wed May 21 00:00:00 EDT 2008</td><td>116250</td><td>38.679776</td><td>-121.314089</td></tr><tr><th>19</th><td>250 PERALTA AVE</td><td>SACRAMENTO</td><td>95833</td><td>CA</td><td>2</td><td>1</td><td>588</td><td>Residential</td><td>Wed May 21 00:00:00 EDT 2008</td><td>120000</td><td>38.612099</td><td>-121.469095</td></tr><tr><th>20</th><td>113 LEEWILL AVE</td><td>RIO LINDA</td><td>95673</td><td>CA</td><td>3</td><td>2</td><td>1356</td><td>Residential</td><td>Wed May 21 00:00:00 EDT 2008</td><td>121630</td><td>38.689999</td><td>-121.46322</td></tr><tr><th>21</th><td>6118 STONEHAND AVE</td><td>CITRUS HEIGHTS</td><td>95621</td><td>CA</td><td>3</td><td>2</td><td>1118</td><td>Residential</td><td>Wed May 21 00:00:00 EDT 2008</td><td>122000</td><td>38.707851</td><td>-121.320707</td></tr><tr><th>22</th><td>4882 BANDALIN WAY</td><td>SACRAMENTO</td><td>95823</td><td>CA</td><td>4</td><td>2</td><td>1329</td><td>Residential</td><td>Wed May 21 00:00:00 EDT 2008</td><td>122682</td><td>38.468173</td><td>-121.444071</td></tr><tr><th>23</th><td>7511 OAKVALE CT</td><td>NORTH HIGHLANDS</td><td>95660</td><td>CA</td><td>4</td><td>2</td><td>1240</td><td>Residential</td><td>Wed May 21 00:00:00 EDT 2008</td><td>123000</td><td>38.702792</td><td>-121.38221</td></tr><tr><th>24</th><td>9 PASTURE CT</td><td>SACRAMENTO</td><td>95834</td><td>CA</td><td>3</td><td>2</td><td>1601</td><td>Residential</td><td>Wed May 21 00:00:00 EDT 2008</td><td>124100</td><td>38.628631</td><td>-121.488097</td></tr><tr><th>25</th><td>3729 BAINBRIDGE DR</td><td>NORTH HIGHLANDS</td><td>95660</td><td>CA</td><td>3</td><td>2</td><td>901</td><td>Residential</td><td>Wed May 21 00:00:00 EDT 2008</td><td>125000</td><td>38.701499</td><td>-121.37622</td></tr><tr><th>26</th><td>3828 BLACKFOOT WAY</td><td>ANTELOPE</td><td>95843</td><td>CA</td><td>3</td><td>2</td><td>1088</td><td>Residential</td><td>Wed May 21 00:00:00 EDT 2008</td><td>126640</td><td>38.70974</td><td>-121.37377</td></tr><tr><th>27</th><td>4108 NORTON WAY</td><td>SACRAMENTO</td><td>95820</td><td>CA</td><td>3</td><td>1</td><td>963</td><td>Residential</td><td>Wed May 21 00:00:00 EDT 2008</td><td>127281</td><td>38.537526</td><td>-121.478315</td></tr><tr><th>28</th><td>1469 JANRICK AVE</td><td>SACRAMENTO</td><td>95832</td><td>CA</td><td>3</td><td>2</td><td>1119</td><td>Residential</td><td>Wed May 21 00:00:00 EDT 2008</td><td>129000</td><td>38.476472</td><td>-121.501711</td></tr><tr><th>29</th><td>9861 CULP WAY</td><td>SACRAMENTO</td><td>95827</td><td>CA</td><td>4</td><td>2</td><td>1380</td><td>Residential</td><td>Wed May 21 00:00:00 EDT 2008</td><td>131200</td><td>38.558423</td><td>-121.327948</td></tr><tr><th>30</th><td>7825 CREEK VALLEY CIR</td><td>SACRAMENTO</td><td>95828</td><td>CA</td><td>3</td><td>2</td><td>1248</td><td>Residential</td><td>Wed May 21 00:00:00 EDT 2008</td><td>132000</td><td>38.472122</td><td>-121.404199</td></tr><tr><th>&vellip;</th><td>&vellip;</td><td>&vellip;</td><td>&vellip;</td><td>&vellip;</td><td>&vellip;</td><td>&vellip;</td><td>&vellip;</td><td>&vellip;</td><td>&vellip;</td><td>&vellip;</td><td>&vellip;</td><td>&vellip;</td></tr></table>"
      ],
      "text/plain": [
       "985×12 DataFrames.DataFrame\n",
       "│ Row │ street                            │ city              │ zip   │ state │\n",
       "├─────┼───────────────────────────────────┼───────────────────┼───────┼───────┤\n",
       "│ 1   │ \"3526 HIGH ST\"                    │ \"SACRAMENTO\"      │ 95838 │ \"CA\"  │\n",
       "│ 2   │ \"51 OMAHA CT\"                     │ \"SACRAMENTO\"      │ 95823 │ \"CA\"  │\n",
       "│ 3   │ \"2796 BRANCH ST\"                  │ \"SACRAMENTO\"      │ 95815 │ \"CA\"  │\n",
       "│ 4   │ \"2805 JANETTE WAY\"                │ \"SACRAMENTO\"      │ 95815 │ \"CA\"  │\n",
       "│ 5   │ \"6001 MCMAHON DR\"                 │ \"SACRAMENTO\"      │ 95824 │ \"CA\"  │\n",
       "│ 6   │ \"5828 PEPPERMILL CT\"              │ \"SACRAMENTO\"      │ 95841 │ \"CA\"  │\n",
       "│ 7   │ \"6048 OGDEN NASH WAY\"             │ \"SACRAMENTO\"      │ 95842 │ \"CA\"  │\n",
       "│ 8   │ \"2561 19TH AVE\"                   │ \"SACRAMENTO\"      │ 95820 │ \"CA\"  │\n",
       "│ 9   │ \"11150 TRINITY RIVER DR Unit 114\" │ \"RANCHO CORDOVA\"  │ 95670 │ \"CA\"  │\n",
       "│ 10  │ \"7325 10TH ST\"                    │ \"RIO LINDA\"       │ 95673 │ \"CA\"  │\n",
       "│ 11  │ \"645 MORRISON AVE\"                │ \"SACRAMENTO\"      │ 95838 │ \"CA\"  │\n",
       "⋮\n",
       "│ 974 │ \"2181 WINTERHAVEN CIR\"            │ \"CAMERON PARK\"    │ 95682 │ \"CA\"  │\n",
       "│ 975 │ \"7540 HICKORY AVE\"                │ \"ORANGEVALE\"      │ 95662 │ \"CA\"  │\n",
       "│ 976 │ \"5024 CHAMBERLIN CIR\"             │ \"ELK GROVE\"       │ 95757 │ \"CA\"  │\n",
       "│ 977 │ \"2400 INVERNESS DR\"               │ \"LINCOLN\"         │ 95648 │ \"CA\"  │\n",
       "│ 978 │ \"5 BISHOPGATE CT\"                 │ \"SACRAMENTO\"      │ 95823 │ \"CA\"  │\n",
       "│ 979 │ \"5601 REXLEIGH DR\"                │ \"SACRAMENTO\"      │ 95823 │ \"CA\"  │\n",
       "│ 980 │ \"1909 YARNELL WAY\"                │ \"ELK GROVE\"       │ 95758 │ \"CA\"  │\n",
       "│ 981 │ \"9169 GARLINGTON CT\"              │ \"SACRAMENTO\"      │ 95829 │ \"CA\"  │\n",
       "│ 982 │ \"6932 RUSKUT WAY\"                 │ \"SACRAMENTO\"      │ 95823 │ \"CA\"  │\n",
       "│ 983 │ \"7933 DAFFODIL WAY\"               │ \"CITRUS HEIGHTS\"  │ 95610 │ \"CA\"  │\n",
       "│ 984 │ \"8304 RED FOX WAY\"                │ \"ELK GROVE\"       │ 95758 │ \"CA\"  │\n",
       "│ 985 │ \"3882 YELLOWSTONE LN\"             │ \"EL DORADO HILLS\" │ 95762 │ \"CA\"  │\n",
       "\n",
       "│ Row │ beds │ baths │ sq__ft │ _type         │ sale_date                      │\n",
       "├─────┼──────┼───────┼────────┼───────────────┼────────────────────────────────┤\n",
       "│ 1   │ 2    │ 1     │ 836    │ \"Residential\" │ \"Wed May 21 00:00:00 EDT 2008\" │\n",
       "│ 2   │ 3    │ 1     │ 1167   │ \"Residential\" │ \"Wed May 21 00:00:00 EDT 2008\" │\n",
       "│ 3   │ 2    │ 1     │ 796    │ \"Residential\" │ \"Wed May 21 00:00:00 EDT 2008\" │\n",
       "│ 4   │ 2    │ 1     │ 852    │ \"Residential\" │ \"Wed May 21 00:00:00 EDT 2008\" │\n",
       "│ 5   │ 2    │ 1     │ 797    │ \"Residential\" │ \"Wed May 21 00:00:00 EDT 2008\" │\n",
       "│ 6   │ 3    │ 1     │ 1122   │ \"Condo\"       │ \"Wed May 21 00:00:00 EDT 2008\" │\n",
       "│ 7   │ 3    │ 2     │ 1104   │ \"Residential\" │ \"Wed May 21 00:00:00 EDT 2008\" │\n",
       "│ 8   │ 3    │ 1     │ 1177   │ \"Residential\" │ \"Wed May 21 00:00:00 EDT 2008\" │\n",
       "│ 9   │ 2    │ 2     │ 941    │ \"Condo\"       │ \"Wed May 21 00:00:00 EDT 2008\" │\n",
       "│ 10  │ 3    │ 2     │ 1146   │ \"Residential\" │ \"Wed May 21 00:00:00 EDT 2008\" │\n",
       "│ 11  │ 3    │ 2     │ 909    │ \"Residential\" │ \"Wed May 21 00:00:00 EDT 2008\" │\n",
       "⋮\n",
       "│ 974 │ 3    │ 2     │ 0      │ \"Residential\" │ \"Thu May 15 00:00:00 EDT 2008\" │\n",
       "│ 975 │ 3    │ 1     │ 1456   │ \"Residential\" │ \"Thu May 15 00:00:00 EDT 2008\" │\n",
       "│ 976 │ 3    │ 2     │ 1450   │ \"Residential\" │ \"Thu May 15 00:00:00 EDT 2008\" │\n",
       "│ 977 │ 3    │ 2     │ 1358   │ \"Residential\" │ \"Thu May 15 00:00:00 EDT 2008\" │\n",
       "│ 978 │ 4    │ 2     │ 1329   │ \"Residential\" │ \"Thu May 15 00:00:00 EDT 2008\" │\n",
       "│ 979 │ 4    │ 2     │ 1715   │ \"Residential\" │ \"Thu May 15 00:00:00 EDT 2008\" │\n",
       "│ 980 │ 3    │ 2     │ 1262   │ \"Residential\" │ \"Thu May 15 00:00:00 EDT 2008\" │\n",
       "│ 981 │ 4    │ 3     │ 2280   │ \"Residential\" │ \"Thu May 15 00:00:00 EDT 2008\" │\n",
       "│ 982 │ 3    │ 2     │ 1477   │ \"Residential\" │ \"Thu May 15 00:00:00 EDT 2008\" │\n",
       "│ 983 │ 3    │ 2     │ 1216   │ \"Residential\" │ \"Thu May 15 00:00:00 EDT 2008\" │\n",
       "│ 984 │ 4    │ 2     │ 1685   │ \"Residential\" │ \"Thu May 15 00:00:00 EDT 2008\" │\n",
       "│ 985 │ 3    │ 2     │ 1362   │ \"Residential\" │ \"Thu May 15 00:00:00 EDT 2008\" │\n",
       "\n",
       "│ Row │ price  │ latitude │ longitude │\n",
       "├─────┼────────┼──────────┼───────────┤\n",
       "│ 1   │ 59222  │ 38.6319  │ -121.435  │\n",
       "│ 2   │ 68212  │ 38.4789  │ -121.431  │\n",
       "│ 3   │ 68880  │ 38.6183  │ -121.444  │\n",
       "│ 4   │ 69307  │ 38.6168  │ -121.439  │\n",
       "│ 5   │ 81900  │ 38.5195  │ -121.436  │\n",
       "│ 6   │ 89921  │ 38.6626  │ -121.328  │\n",
       "│ 7   │ 90895  │ 38.6817  │ -121.352  │\n",
       "│ 8   │ 91002  │ 38.5351  │ -121.481  │\n",
       "│ 9   │ 94905  │ 38.6212  │ -121.271  │\n",
       "│ 10  │ 98937  │ 38.7009  │ -121.443  │\n",
       "│ 11  │ 100309 │ 38.6377  │ -121.452  │\n",
       "⋮\n",
       "│ 974 │ 224500 │ 38.6976  │ -120.996  │\n",
       "│ 975 │ 225000 │ 38.7031  │ -121.235  │\n",
       "│ 976 │ 228000 │ 38.3898  │ -121.446  │\n",
       "│ 977 │ 229027 │ 38.8978  │ -121.325  │\n",
       "│ 978 │ 229500 │ 38.4679  │ -121.445  │\n",
       "│ 979 │ 230000 │ 38.4453  │ -121.442  │\n",
       "│ 980 │ 230000 │ 38.4174  │ -121.484  │\n",
       "│ 981 │ 232425 │ 38.4577  │ -121.36   │\n",
       "│ 982 │ 234000 │ 38.4999  │ -121.459  │\n",
       "│ 983 │ 235000 │ 38.7088  │ -121.257  │\n",
       "│ 984 │ 235301 │ 38.417   │ -121.397  │\n",
       "│ 985 │ 235738 │ 38.6552  │ -121.076  │"
      ]
     },
     "execution_count": 41,
     "metadata": {},
     "output_type": "execute_result"
    }
   ],
   "source": [
    "# you can also read in your dataset\n",
    "houses = readtable(\"houses.csv\")"
   ]
  },
  {
   "cell_type": "code",
   "execution_count": 54,
   "metadata": {
    "collapsed": false
   },
   "outputs": [],
   "source": [
    "# if you want to create your own dataframe and write it:\n",
    "# a basic dataframe\n",
    "n = [\"Tia\",\"Rena\",\"Helen\"]\n",
    "a = [9,9,3]\n",
    "df = DataFrame(names = n, ages = a)\n",
    "writetable(\"output.csv\", df)\n",
    "# the following should work but doesn't :(\n",
    "# writetable(\"output2.csv\", df, quotemark = '', separator = ',')"
   ]
  }
 ],
 "metadata": {
  "kernelspec": {
   "display_name": "Julia 0.4.6",
   "language": "julia",
   "name": "julia-0.4"
  },
  "language_info": {
   "file_extension": ".jl",
   "mimetype": "application/julia",
   "name": "julia",
   "version": "0.4.6"
  }
 },
 "nbformat": 4,
 "nbformat_minor": 0
}
