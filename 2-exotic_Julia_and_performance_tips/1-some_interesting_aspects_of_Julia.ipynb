{
 "cells": [
  {
   "cell_type": "markdown",
   "metadata": {},
   "source": [
    "## Vectorized vs Devectorized"
   ]
  },
  {
   "cell_type": "code",
   "execution_count": 1,
   "metadata": {
    "collapsed": false
   },
   "outputs": [
    {
     "data": {
      "text/plain": [
       "1000"
      ]
     },
     "execution_count": 1,
     "metadata": {},
     "output_type": "execute_result"
    }
   ],
   "source": [
    "const n = 1000\n",
    "const k = 1000"
   ]
  },
  {
   "cell_type": "code",
   "execution_count": 2,
   "metadata": {
    "collapsed": false
   },
   "outputs": [],
   "source": [
    "const a = rand(n,1);\n",
    "const b = rand(n,1);\n",
    "const c = rand(n,1);"
   ]
  },
  {
   "cell_type": "code",
   "execution_count": 3,
   "metadata": {
    "collapsed": false
   },
   "outputs": [
    {
     "name": "stdout",
     "output_type": "stream",
     "text": [
      "  0.049202 seconds (1.09 M allocations: 45.334 MB, 14.12% gc time)\n",
      "  0.252658 seconds (106.59 k allocations: 70.529 MB, 7.00% gc time)\n"
     ]
    }
   ],
   "source": [
    "function find_delta_devectorized()\n",
    "    positive_delta = []\n",
    "\n",
    "    for i in 1:n\n",
    "        @inbounds @fastmath d = b[i]^2-4a[i]c[i]\n",
    "        if d.>0\n",
    "            push!(positive_delta,[a[i], b[i], c[i]])\n",
    "        end\n",
    "    end\n",
    "\n",
    "    return positive_delta\n",
    "end\n",
    "\n",
    "function find_delta_vectorized()\n",
    "    alldelta = b.^2-4*a.*c\n",
    "    return [a b c][alldelta.>0,:]\n",
    "end\n",
    "\n",
    "@time for i in 1:k find_delta_devectorized() end\n",
    "@time for i in 1:k find_delta_vectorized() end"
   ]
  },
  {
   "cell_type": "code",
   "execution_count": 4,
   "metadata": {
    "collapsed": false
   },
   "outputs": [
    {
     "data": {
      "text/plain": [
       "0.8802404795496619"
      ]
     },
     "execution_count": 4,
     "metadata": {},
     "output_type": "execute_result"
    }
   ],
   "source": [
    "# from http://stackoverflow.com/questions/27928502/julia-vectorized-vs-devectorized-code\n",
    "const x = rand(n)\n",
    "const y = rand(n)\n",
    "const u = rand()\n",
    "const v = rand()"
   ]
  },
  {
   "cell_type": "code",
   "execution_count": 5,
   "metadata": {
    "collapsed": false
   },
   "outputs": [
    {
     "name": "stdout",
     "output_type": "stream",
     "text": [
      "  0.011662 seconds (27.00 k allocations: 1.038 MB)\n",
      "  0.014225 seconds (31.00 k allocations: 16.281 MB, 27.60% gc time)\n",
      "  0.142840 seconds (19.00 k allocations: 66.254 MB, 7.05% gc time)\n"
     ]
    }
   ],
   "source": [
    "function devect3()\n",
    "    pairs = []\n",
    "\n",
    "    for i in 1:n\n",
    "        @inbounds @fastmath dist = sqrt((x[i] - u)^2 + (y[i] - v)^2)\n",
    "        if dist < 0.05\n",
    "            push!(pairs,[x[i], y[i]])\n",
    "        end\n",
    "    end\n",
    "\n",
    "    return pairs\n",
    "end\n",
    "\n",
    "function devect2()\n",
    "    pairs = Array(Float64, n, 2)\n",
    "\n",
    "    for i in 1:n\n",
    "        dist = sqrt((x[i] - u)^2 + (y[i] - v)^2)\n",
    "        if dist < 0.05\n",
    "            pairs[i,:] = [x[i], y[i]]\n",
    "        end\n",
    "    end\n",
    "\n",
    "    return pairs\n",
    "end\n",
    "\n",
    "function vect()\n",
    "    d = sqrt((x-u).^2 + (y-v).^2)\n",
    "    return [x y][d .< 0.05,:]\n",
    "end\n",
    "\n",
    "@time for i in 1:n devect3() end\n",
    "@time for i in 1:n devect2() end\n",
    "@time for i in 1:n vect() end"
   ]
  },
  {
   "cell_type": "code",
   "execution_count": 6,
   "metadata": {
    "collapsed": false
   },
   "outputs": [],
   "source": [
    "const P1 = rand(n,2);\n",
    "const P2 = rand(n,2);"
   ]
  },
  {
   "cell_type": "code",
   "execution_count": 7,
   "metadata": {
    "collapsed": false
   },
   "outputs": [
    {
     "name": "stdout",
     "output_type": "stream",
     "text": [
      "  0.029779 seconds (256.00 k allocations: 19.714 MB, 10.78% gc time)\n",
      "  0.079799 seconds (55.95 k allocations: 59.705 MB, 15.65% gc time)\n"
     ]
    }
   ],
   "source": [
    "function find_slopes_devec()\n",
    "    small_slopes = []\n",
    "\n",
    "    for i in 1:n\n",
    "        @inbounds @fastmath slope = (P2[i,2] - P1[i,2])/(P2[i,1] - P1[i,1])\n",
    "        if slope < 0.01\n",
    "            push!(small_slopes,i)\n",
    "        end\n",
    "    end\n",
    "\n",
    "    return small_slopes\n",
    "end\n",
    "\n",
    "function find_slopes_vectorized()\n",
    "    allslopes = (P2[:,2]-P1[:,2])./((P2[:,1] - P1[:,1]))\n",
    "    return allslopes.<0.01\n",
    "end\n",
    "\n",
    "@time for i in 1:k find_slopes_devec() end\n",
    "@time for i in 1:k find_slopes_vectorized() end"
   ]
  },
  {
   "cell_type": "markdown",
   "metadata": {
    "collapsed": true
   },
   "source": [
    "`const` can change value but cannot change type\n",
    "\n",
    "Why not global variables? Julia recommends avoiding global variables specially when performance is important\n",
    ">A global variable might have its value, and therefore its type, change at any point. This makes it difficult for the compiler to optimize code using global variables. Variables should be local, or passed as arguments to functions, whenever possible."
   ]
  },
  {
   "cell_type": "markdown",
   "metadata": {},
   "source": [
    "## Iterators\n",
    "For a more extensive study on iterators in Julia, check this [post](http://slendermeans.org/julia-iterators.html)\n",
    "\n",
    "This is very similar to Python's `__iter__` and `__next__`. We will see next Julia's `start`, `next` and `done` -- An important difference here is that these functions **do not** have any effect on the object being iterated."
   ]
  },
  {
   "cell_type": "code",
   "execution_count": 8,
   "metadata": {
    "collapsed": false
   },
   "outputs": [
    {
     "name": "stdout",
     "output_type": "stream",
     "text": [
      "start(I) = 1\n",
      "next(I,1) = (1,2)\n",
      "done(I,2) = false\n"
     ]
    }
   ],
   "source": [
    "I = [1,11,21,31,41,51];\n",
    "@show start(I);\n",
    "@show next(I,1);\n",
    "@show done(I,2);"
   ]
  },
  {
   "cell_type": "code",
   "execution_count": 9,
   "metadata": {
    "collapsed": false
   },
   "outputs": [
    {
     "name": "stdout",
     "output_type": "stream",
     "text": [
      "state = start(I) = 1\n",
      "(i,state) = next(I,state) = (1,2)\n",
      "(i,state) = next(I,state) = (11,3)\n",
      "(i,state) = next(I,state) = (21,4)\n",
      "(i,state) = next(I,state) = (31,5)\n"
     ]
    }
   ],
   "source": [
    "@show state = start(I);\n",
    "@show i,state = next(I,state);\n",
    "@show i,state = next(I,state);\n",
    "@show i,state = next(I,state);\n",
    "@show i,state = next(I,state);"
   ]
  },
  {
   "cell_type": "code",
   "execution_count": 10,
   "metadata": {
    "collapsed": false
   },
   "outputs": [
    {
     "name": "stdout",
     "output_type": "stream",
     "text": [
      "I am the element number 1 and my value is 1\n",
      "I am the element number 2 and my value is 11\n",
      "I am the element number 3 and my value is 21\n",
      "I am the element number 4 and my value is 31\n",
      "I am the element number 5 and my value is 41\n",
      "I am the element number 6 and my value is 51\n"
     ]
    }
   ],
   "source": [
    "state = start(I)\n",
    "while !done(I,state)\n",
    "    i, state = next(I,state)\n",
    "    println(\"I am the element number $(state-1) and my value is $i\")\n",
    "end"
   ]
  },
  {
   "cell_type": "code",
   "execution_count": 11,
   "metadata": {
    "collapsed": false
   },
   "outputs": [
    {
     "name": "stdout",
     "output_type": "stream",
     "text": [
      "I am the element number 1 and my value is 1\n",
      "I am the element number 2 and my value is 11\n",
      "I am the element number 3 and my value is 21\n",
      "I am the element number 4 and my value is 31\n",
      "I am the element number 5 and my value is 41\n",
      "I am the element number 6 and my value is 51\n",
      "I am the element number 7 and my value is 1\n",
      "I am the element number 8 and my value is 11\n",
      "I am the element number 9 and my value is 21\n",
      "I am the element number 10 and my value is 31\n",
      "I am the element number 11 and my value is 41\n",
      "I am the element number 12 and my value is 51\n"
     ]
    }
   ],
   "source": [
    "# iterators can run on 2D arrays columnwise\n",
    "J = hcat(I,I)\n",
    "state = start(J)\n",
    "while !done(J,state)\n",
    "    i, state = next(J,state)\n",
    "    println(\"I am the element number $(state-1) and my value is $i\")\n",
    "end"
   ]
  },
  {
   "cell_type": "code",
   "execution_count": 12,
   "metadata": {
    "collapsed": false
   },
   "outputs": [
    {
     "data": {
      "text/plain": [
       "Dict{Symbol,Int64} with 4 entries:\n",
       "  :score1 => 100\n",
       "  :score4 => 80\n",
       "  :score3 => 99\n",
       "  :score2 => 70"
      ]
     },
     "execution_count": 12,
     "metadata": {},
     "output_type": "execute_result"
    }
   ],
   "source": [
    "# iterators on dictionaries:\n",
    "D = Dict(:score1 => 100, :score2 => 70, :score3 => 99, :score4 => 80)"
   ]
  },
  {
   "cell_type": "code",
   "execution_count": 13,
   "metadata": {
    "collapsed": false
   },
   "outputs": [
    {
     "name": "stdout",
     "output_type": "stream",
     "text": [
      "state = start(D) = 1\n",
      "(i,state) = next(D,state) = (:score1=>100,5)\n",
      "(i,state) = next(D,state) = (:score4=>80,14)\n",
      "(i,state) = next(D,state) = (:score3=>99,15)\n",
      "(i,state) = next(D,state) = (:score2=>70,17)\n"
     ]
    }
   ],
   "source": [
    "# Dictionaries are a little different.\n",
    "@show state = start(D);\n",
    "@show i,state = next(D,state);\n",
    "@show i,state = next(D,state);\n",
    "@show i,state = next(D,state);\n",
    "@show i,state = next(D,state);"
   ]
  },
  {
   "cell_type": "code",
   "execution_count": 14,
   "metadata": {
    "collapsed": false
   },
   "outputs": [
    {
     "data": {
      "text/plain": [
       "16-element Array{Symbol,1}:\n",
       "    :score1\n",
       " #undef    \n",
       " #undef    \n",
       " #undef    \n",
       "    :score4\n",
       " #undef    \n",
       " #undef    \n",
       " #undef    \n",
       " #undef    \n",
       " #undef    \n",
       " #undef    \n",
       " #undef    \n",
       " #undef    \n",
       "    :score3\n",
       "    :score2\n",
       " #undef    "
      ]
     },
     "execution_count": 14,
     "metadata": {},
     "output_type": "execute_result"
    }
   ],
   "source": [
    "D.keys"
   ]
  },
  {
   "cell_type": "code",
   "execution_count": 15,
   "metadata": {
    "collapsed": false
   },
   "outputs": [
    {
     "name": "stdout",
     "output_type": "stream",
     "text": [
      "[3.0,2.0,98937.0]\n",
      "[3.0,1.0,68212.0]\n",
      "[2.0,1.0,59222.0]\n"
     ]
    }
   ],
   "source": [
    "# if an iterator makes sense on a type that you've created, then you can define your own iterator\n",
    "\n",
    "type Houses\n",
    "    beds::Array{Int64,1}\n",
    "    baths::Array{Int64,1}\n",
    "    sq__ft::Array{Float64,1}\n",
    "end\n",
    "\n",
    "Base.start(h::Houses) = 1\n",
    "Base.next(h::Houses,state::Int64) = ([h.beds[state],h.baths[state],h.sq__ft[state]],state+1)\n",
    "Base.done(h::Houses,state::Int64) = length(h.beds) == state-1\n",
    "\n",
    "h = Houses([3,3,2],[2,1,1],[98937,68212,59222])\n",
    "\n",
    "for i in h\n",
    "    println(\"$i\")\n",
    "end"
   ]
  },
  {
   "cell_type": "markdown",
   "metadata": {
    "collapsed": false
   },
   "source": [
    "## Column major storage of matrices"
   ]
  },
  {
   "cell_type": "code",
   "execution_count": 30,
   "metadata": {
    "collapsed": false
   },
   "outputs": [
    {
     "name": "stdout",
     "output_type": "stream",
     "text": [
      "  0.000029 seconds (7 allocations: 288 bytes)\n",
      "  0.000056 seconds (7 allocations: 288 bytes)\n"
     ]
    }
   ],
   "source": [
    "function square_rowmajor(A)\n",
    "    m,n = size(A)\n",
    "    for i=1:m, j=1:n\n",
    "        #fix row (i), change col (j)\n",
    "        A[i,j] += 1\n",
    "    end\n",
    "end\n",
    "\n",
    "function square_colmajor(A)\n",
    "    m,n = size(A)\n",
    "    for j=1:n, i=1:m\n",
    "        #fix col (j), change row (i)\n",
    "        A[i,j] += 1\n",
    "    end\n",
    "end\n",
    "\n",
    "# sz = 100\n",
    "sz = 5000\n",
    "A = rand(sz,sz);\n",
    "@time square_colmajor(A)\n",
    "@time square_rowmajor(A)"
   ]
  },
  {
   "cell_type": "markdown",
   "metadata": {},
   "source": [
    "## Inplace operations"
   ]
  },
  {
   "cell_type": "code",
   "execution_count": 45,
   "metadata": {
    "collapsed": false
   },
   "outputs": [
    {
     "data": {
      "text/plain": [
       "square_not_inplace (generic function with 1 method)"
      ]
     },
     "execution_count": 45,
     "metadata": {},
     "output_type": "execute_result"
    }
   ],
   "source": [
    "function square_inplace!{T}(v::Vector{T})\n",
    "    for i = 1:length(v)\n",
    "        v[i] = v[i]^2\n",
    "    end\n",
    "    v\n",
    "end\n",
    "\n",
    "function square_not_inplace{T}(v::Vector{T})\n",
    "    w = zeros(eltype(v),length(v))\n",
    "    for i = 1:length(v)\n",
    "        w[i] = v[i]^2\n",
    "    end\n",
    "    w\n",
    "end\n",
    "\n",
    "# function square_not_inplace(v)"
   ]
  },
  {
   "cell_type": "code",
   "execution_count": 54,
   "metadata": {
    "collapsed": false
   },
   "outputs": [
    {
     "name": "stdout",
     "output_type": "stream",
     "text": [
      "  0.000008 seconds (5 allocations: 256 bytes)\n"
     ]
    },
    {
     "data": {
      "text/plain": [
       "3-element Array{Int64,1}:\n",
       " 1\n",
       " 4\n",
       " 9"
      ]
     },
     "execution_count": 54,
     "metadata": {},
     "output_type": "execute_result"
    }
   ],
   "source": [
    "vec = [1;2;3]\n",
    "@time square_not_inplace(vec)"
   ]
  },
  {
   "cell_type": "code",
   "execution_count": 55,
   "metadata": {
    "collapsed": false
   },
   "outputs": [
    {
     "data": {
      "text/plain": [
       "3-element Array{Int64,1}:\n",
       " 1\n",
       " 2\n",
       " 3"
      ]
     },
     "execution_count": 55,
     "metadata": {},
     "output_type": "execute_result"
    }
   ],
   "source": [
    "vec"
   ]
  },
  {
   "cell_type": "code",
   "execution_count": 56,
   "metadata": {
    "collapsed": false
   },
   "outputs": [
    {
     "name": "stdout",
     "output_type": "stream",
     "text": [
      "  0.000004 seconds (4 allocations: 160 bytes)\n"
     ]
    },
    {
     "data": {
      "text/plain": [
       "3-element Array{Int64,1}:\n",
       " 1\n",
       " 4\n",
       " 9"
      ]
     },
     "execution_count": 56,
     "metadata": {},
     "output_type": "execute_result"
    }
   ],
   "source": [
    "vec = [1,2,3]\n",
    "@time square_inplace!(vec)"
   ]
  },
  {
   "cell_type": "code",
   "execution_count": 57,
   "metadata": {
    "collapsed": false
   },
   "outputs": [
    {
     "data": {
      "text/plain": [
       "3-element Array{Int64,1}:\n",
       " 1\n",
       " 4\n",
       " 9"
      ]
     },
     "execution_count": 57,
     "metadata": {},
     "output_type": "execute_result"
    }
   ],
   "source": [
    "vec"
   ]
  },
  {
   "cell_type": "markdown",
   "metadata": {},
   "source": [
    "## Careful wit types @code_warntype"
   ]
  },
  {
   "cell_type": "code",
   "execution_count": 1,
   "metadata": {
    "collapsed": false
   },
   "outputs": [
    {
     "data": {
      "text/plain": [
       "my_sum (generic function with 1 method)"
      ]
     },
     "execution_count": 1,
     "metadata": {},
     "output_type": "execute_result"
    }
   ],
   "source": [
    "function my_sum(vec)\n",
    "    s = 0\n",
    "    for i = 1:length(vec)\n",
    "        s += vec[i]\n",
    "    end\n",
    "    return s\n",
    "end"
   ]
  },
  {
   "cell_type": "code",
   "execution_count": 2,
   "metadata": {
    "collapsed": false
   },
   "outputs": [],
   "source": [
    "vec = rand(1000000);"
   ]
  },
  {
   "cell_type": "code",
   "execution_count": 3,
   "metadata": {
    "collapsed": false
   },
   "outputs": [
    {
     "name": "stdout",
     "output_type": "stream",
     "text": [
      "my_sum(a) = 500512.6108968449\n",
      "sum(a) = 500512.6108968367\n"
     ]
    },
    {
     "data": {
      "text/plain": [
       "500512.6108968367"
      ]
     },
     "execution_count": 3,
     "metadata": {},
     "output_type": "execute_result"
    }
   ],
   "source": [
    "@show my_sum(vec)\n",
    "@show sum(vec)"
   ]
  },
  {
   "cell_type": "code",
   "execution_count": 56,
   "metadata": {
    "collapsed": false
   },
   "outputs": [
    {
     "name": "stdout",
     "output_type": "stream",
     "text": [
      "  0.041744 seconds (2.00 M allocations: 30.518 MB, 10.26% gc time)\n"
     ]
    },
    {
     "data": {
      "text/plain": [
       "500512.6108968449"
      ]
     },
     "execution_count": 56,
     "metadata": {},
     "output_type": "execute_result"
    }
   ],
   "source": [
    "@time my_sum(vec)"
   ]
  },
  {
   "cell_type": "code",
   "execution_count": 57,
   "metadata": {
    "collapsed": false
   },
   "outputs": [
    {
     "name": "stdout",
     "output_type": "stream",
     "text": [
      "Variables:\n",
      "  vec::Array{Float64,1}\n",
      "  s::ANY\n",
      "  #s52::Int64\n",
      "  i::Int64\n",
      "\n",
      "Body:\n",
      "  begin  # In[1], line 2:\n",
      "      s = 0 # In[1], line 3:\n",
      "      GenSym(2) = (Base.arraylen)(vec::Array{Float64,1})::Int64\n",
      "      GenSym(0) = $(Expr(:new, UnitRange{Int64}, 1, :(((top(getfield))(Base.Intrinsics,:select_value)::I)((Base.sle_int)(1,GenSym(2))::Bool,GenSym(2),(Base.box)(Int64,(Base.sub_int)(1,1)))::Int64)))\n",
      "      #s52 = (top(getfield))(GenSym(0),:start)::Int64\n",
      "      unless (Base.box)(Base.Bool,(Base.not_int)(#s52::Int64 === (Base.box)(Base.Int,(Base.add_int)((top(getfield))(GenSym(0),:stop)::Int64,1))::Bool)) goto 1\n",
      "      2: \n",
      "      GenSym(3) = #s52::Int64\n",
      "      GenSym(4) = (Base.box)(Base.Int,(Base.add_int)(#s52::Int64,1))\n",
      "      i = GenSym(3)\n",
      "      #s52 = GenSym(4) # In[1], line 4:\n",
      "      s = s::UNION{FLOAT64,INT64} + (Base.arrayref)(vec::Array{Float64,1},i::Int64)::Float64::Float64\n",
      "      3: \n",
      "      unless (Base.box)(Base.Bool,(Base.not_int)((Base.box)(Base.Bool,(Base.not_int)(#s52::Int64 === (Base.box)(Base.Int,(Base.add_int)((top(getfield))(GenSym(0),:stop)::Int64,1))::Bool)))) goto 2\n",
      "      1: \n",
      "      0:  # In[1], line 6:\n",
      "      return s::UNION{FLOAT64,INT64}\n",
      "  end::UNION{FLOAT64,INT64}\n"
     ]
    }
   ],
   "source": [
    "@code_warntype my_sum(vec)"
   ]
  },
  {
   "cell_type": "code",
   "execution_count": 67,
   "metadata": {
    "collapsed": false
   },
   "outputs": [
    {
     "data": {
      "text/plain": [
       "my_sum_faster (generic function with 1 method)"
      ]
     },
     "execution_count": 67,
     "metadata": {},
     "output_type": "execute_result"
    }
   ],
   "source": [
    "function my_sum_faster(vec)\n",
    "    s = zero(eltype(vec))\n",
    "    for i = 1:length(vec)\n",
    "        s += vec[i]\n",
    "    end\n",
    "    return s\n",
    "end"
   ]
  },
  {
   "cell_type": "code",
   "execution_count": 68,
   "metadata": {
    "collapsed": false
   },
   "outputs": [
    {
     "name": "stdout",
     "output_type": "stream",
     "text": [
      "Variables:\n",
      "  vec::Array{Float64,1}\n",
      "  s::Float64\n",
      "  #s52::Int64\n",
      "  i::Int64\n",
      "\n",
      "Body:\n",
      "  begin  # In[67], line 2:\n",
      "      s = (Base.box)(Float64,(Base.sitofp)(Float64,0)) # In[67], line 3:\n",
      "      $(Expr(:boundscheck, false))\n",
      "      GenSym(2) = (Base.arraylen)(vec::Array{Float64,1})::Int64\n",
      "      GenSym(0) = $(Expr(:new, UnitRange{Int64}, 1, :(((top(getfield))(Base.Intrinsics,:select_value)::I)((Base.sle_int)(1,GenSym(2))::Bool,GenSym(2),(Base.box)(Int64,(Base.sub_int)(1,1)))::Int64)))\n",
      "      #s52 = (top(getfield))(GenSym(0),:start)::Int64\n",
      "      unless (Base.box)(Base.Bool,(Base.not_int)(#s52::Int64 === (Base.box)(Base.Int,(Base.add_int)((top(getfield))(GenSym(0),:stop)::Int64,1))::Bool)) goto 1\n",
      "      2: \n",
      "      GenSym(3) = #s52::Int64\n",
      "      GenSym(4) = (Base.box)(Base.Int,(Base.add_int)(#s52::Int64,1))\n",
      "      i = GenSym(3)\n",
      "      #s52 = GenSym(4) # In[67], line 4:\n",
      "      s = (Base.box)(Base.Float64,(Base.add_float)(s::Float64,(Base.arrayref)(vec::Array{Float64,1},i::Int64)::Float64))\n",
      "      3: \n",
      "      unless (Base.box)(Base.Bool,(Base.not_int)((Base.box)(Base.Bool,(Base.not_int)(#s52::Int64 === (Base.box)(Base.Int,(Base.add_int)((top(getfield))(GenSym(0),:stop)::Int64,1))::Bool)))) goto 2\n",
      "      1: \n",
      "      0: \n",
      "      $(Expr(:boundscheck, :((top(getfield))(Base,:pop)))) # In[67], line 6:\n",
      "      return s::Float64\n",
      "  end::Float64\n"
     ]
    }
   ],
   "source": [
    "@code_warntype my_sum_faster(vec)"
   ]
  },
  {
   "cell_type": "code",
   "execution_count": 72,
   "metadata": {
    "collapsed": false
   },
   "outputs": [
    {
     "name": "stdout",
     "output_type": "stream",
     "text": [
      "  0.001644 seconds (5 allocations: 176 bytes)\n",
      "  0.043430 seconds (2.00 M allocations: 30.518 MB, 4.15% gc time)\n"
     ]
    },
    {
     "data": {
      "text/plain": [
       "500512.6108968449"
      ]
     },
     "execution_count": 72,
     "metadata": {},
     "output_type": "execute_result"
    }
   ],
   "source": [
    "@time my_sum_faster(vec)\n",
    "@time my_sum(vec)"
   ]
  },
  {
   "cell_type": "markdown",
   "metadata": {},
   "source": [
    "## @simd and @inbounds"
   ]
  },
  {
   "cell_type": "markdown",
   "metadata": {},
   "source": [
    "## Type Stability"
   ]
  },
  {
   "cell_type": "code",
   "execution_count": 217,
   "metadata": {
    "collapsed": false
   },
   "outputs": [
    {
     "name": "stdout",
     "output_type": "stream",
     "text": [
      "square_positive(rand()) = 0.9269297164744749\n",
      "square_positive(-3.2) = -1\n",
      "typeof(square_positive(rand())) = Float64\n",
      "typeof(square_positive(-3.2)) = Int64\n"
     ]
    },
    {
     "data": {
      "text/plain": [
       "Int64"
      ]
     },
     "execution_count": 217,
     "metadata": {},
     "output_type": "execute_result"
    }
   ],
   "source": [
    "function square_positive(val)\n",
    "    if val>=0\n",
    "        return val^2\n",
    "    else\n",
    "        return -1\n",
    "    end\n",
    "end\n",
    "\n",
    "@show square_positive(rand())\n",
    "@show square_positive(-3.2)\n",
    "\n",
    "@show typeof(square_positive(rand()))\n",
    "@show typeof(square_positive(-3.2))"
   ]
  },
  {
   "cell_type": "code",
   "execution_count": 218,
   "metadata": {
    "collapsed": false
   },
   "outputs": [
    {
     "name": "stdout",
     "output_type": "stream",
     "text": [
      "square_positive(9) = 81\n",
      "square_positive(-3) = -1\n",
      "typeof(square_positive(9)) = Int64\n",
      "typeof(square_positive(-3)) = Int64\n"
     ]
    },
    {
     "data": {
      "text/plain": [
       "Int64"
      ]
     },
     "execution_count": 218,
     "metadata": {},
     "output_type": "execute_result"
    }
   ],
   "source": [
    "@show square_positive(9)\n",
    "@show square_positive(-3)\n",
    "\n",
    "@show typeof(square_positive(9))\n",
    "@show typeof(square_positive(-3))"
   ]
  },
  {
   "cell_type": "code",
   "execution_count": 219,
   "metadata": {
    "collapsed": false
   },
   "outputs": [
    {
     "data": {
      "text/plain": [
       "square_positive_stable (generic function with 1 method)"
      ]
     },
     "execution_count": 219,
     "metadata": {},
     "output_type": "execute_result"
    }
   ],
   "source": [
    "# A type-stable function can let the compiler predict the type of the output based on the type of the input\n",
    "function square_positive_stable(val)\n",
    "    if val>=0\n",
    "        return val^2\n",
    "    else\n",
    "        return one(typeof(val))*-1\n",
    "    end\n",
    "end"
   ]
  },
  {
   "cell_type": "code",
   "execution_count": 221,
   "metadata": {
    "collapsed": false
   },
   "outputs": [
    {
     "name": "stdout",
     "output_type": "stream",
     "text": [
      "square_positive_stable(rand()) = 0.031372300638581985\n",
      "square_positive_stable(-3.2) = -1.0\n",
      "typeof(square_positive_stable(rand())) = Float64\n",
      "typeof(square_positive_stable(-3.2)) = Float64\n"
     ]
    },
    {
     "data": {
      "text/plain": [
       "Float64"
      ]
     },
     "execution_count": 221,
     "metadata": {},
     "output_type": "execute_result"
    }
   ],
   "source": [
    "@show square_positive_stable(rand())\n",
    "@show square_positive_stable(-3.2)\n",
    "\n",
    "@show typeof(square_positive_stable(rand()))\n",
    "@show typeof(square_positive_stable(-3.2))"
   ]
  },
  {
   "cell_type": "code",
   "execution_count": 222,
   "metadata": {
    "collapsed": false
   },
   "outputs": [
    {
     "name": "stdout",
     "output_type": "stream",
     "text": [
      "square_positive(9) = 81\n",
      "square_positive(-3) = -1\n",
      "typeof(square_positive(9)) = Int64\n",
      "typeof(square_positive(-3)) = Int64\n"
     ]
    },
    {
     "data": {
      "text/plain": [
       "Int64"
      ]
     },
     "execution_count": 222,
     "metadata": {},
     "output_type": "execute_result"
    }
   ],
   "source": [
    "@show square_positive(9)\n",
    "@show square_positive(-3)\n",
    "\n",
    "@show typeof(square_positive(9))\n",
    "@show typeof(square_positive(-3))"
   ]
  },
  {
   "cell_type": "markdown",
   "metadata": {},
   "source": [
    "## More on types"
   ]
  },
  {
   "cell_type": "code",
   "execution_count": 223,
   "metadata": {
    "collapsed": false
   },
   "outputs": [
    {
     "name": "stdout",
     "output_type": "stream",
     "text": [
      "Number\n",
      "\tComplex{T<:Real}\n",
      "\tReal\n",
      "\t\tAbstractFloat\n",
      "\t\t\tBigFloat\n",
      "\t\t\tFloat16\n",
      "\t\t\tFloat32\n",
      "\t\t\tFloat64\n",
      "\t\tInteger\n",
      "\t\t\tBigInt\n",
      "\t\t\tBool\n",
      "\t\t\tSigned\n",
      "\t\t\t\tInt128\n",
      "\t\t\t\tInt16\n",
      "\t\t\t\tInt32\n",
      "\t\t\t\tInt64\n",
      "\t\t\t\tInt8\n",
      "\t\t\tUnsigned\n",
      "\t\t\t\tUInt128\n",
      "\t\t\t\tUInt16\n",
      "\t\t\t\tUInt32\n",
      "\t\t\t\tUInt64\n",
      "\t\t\t\tUInt8\n",
      "\t\tIrrational{sym}\n",
      "\t\tRational{T<:Integer}\n"
     ]
    },
    {
     "data": {
      "text/plain": [
       "0"
      ]
     },
     "execution_count": 223,
     "metadata": {},
     "output_type": "execute_result"
    }
   ],
   "source": [
    "# code from: https://en.wikibooks.org/wiki/Introducing_Julia/Types\n",
    "level = 0\n",
    "function showtypetree(subtype)\n",
    "    global level\n",
    "    subtypelist = filter(asubtype -> asubtype != Any, subtypes(subtype))\n",
    "    if length(subtypelist) > 0 \n",
    "         println(\"\\t\" ^ level, subtype)        \n",
    "         level += 1\n",
    "         map(showtypetree, subtypelist)\n",
    "         level -= 1\n",
    "    else\n",
    "         println(\"\\t\" ^ level, subtype)\n",
    "    end    \n",
    "end\n",
    "\n",
    "showtypetree(Number)"
   ]
  },
  {
   "cell_type": "markdown",
   "metadata": {},
   "source": [
    "## Multiple Dispatch"
   ]
  },
  {
   "cell_type": "code",
   "execution_count": 225,
   "metadata": {
    "collapsed": false
   },
   "outputs": [
    {
     "data": {
      "text/html": [
       "3 methods for generic function <b>foo</b>:<ul><li> foo(x::<b>ASCIIString</b>) at In[225]:1<li> foo(x::<b>Integer</b>) at In[225]:2<li> foo(x::<b>Float64</b>) at In[225]:3</ul>"
      ],
      "text/plain": [
       "# 3 methods for generic function \"foo\":\n",
       "foo(x::ASCIIString) at In[225]:1\n",
       "foo(x::Integer) at In[225]:2\n",
       "foo(x::Float64) at In[225]:3"
      ]
     },
     "execution_count": 225,
     "metadata": {},
     "output_type": "execute_result"
    }
   ],
   "source": [
    "foo(x::ASCIIString)  = println(\"The type of your input is String\")\n",
    "foo(x::Integer) = println(\"The type of your input is Integer\")\n",
    "foo(x::Float64) = println(\"The type of your input is Float\")\n",
    "methods(foo)"
   ]
  },
  {
   "cell_type": "markdown",
   "metadata": {},
   "source": [
    "## Functional Programming"
   ]
  },
  {
   "cell_type": "code",
   "execution_count": 238,
   "metadata": {
    "collapsed": false
   },
   "outputs": [
    {
     "name": "stdout",
     "output_type": "stream",
     "text": [
      "map(funcmap,2) = 4\n",
      "map(*,[\"Hello\",\"Hi\"],[\" World.\",\"there!\"]) = ASCIIString[\"Hello World.\",\"Hithere!\"]\n"
     ]
    },
    {
     "data": {
      "text/plain": [
       "2-element Array{ASCIIString,1}:\n",
       " \"Hello World.\"\n",
       " \"Hithere!\"    "
      ]
     },
     "execution_count": 238,
     "metadata": {},
     "output_type": "execute_result"
    }
   ],
   "source": [
    "funcmap = x -> x^2\n",
    "@show map(funcmap, 2)\n",
    "@show map(*,[\"Hello\",\"Hi\"],[\" World.\", \"there!\"])"
   ]
  },
  {
   "cell_type": "markdown",
   "metadata": {},
   "source": [
    "## Metaprogramming\n"
   ]
  },
  {
   "cell_type": "code",
   "execution_count": 240,
   "metadata": {
    "collapsed": false
   },
   "outputs": [
    {
     "data": {
      "text/plain": [
       "\"1 + 1\""
      ]
     },
     "execution_count": 240,
     "metadata": {},
     "output_type": "execute_result"
    }
   ],
   "source": [
    "prog = \"1 + 1\""
   ]
  },
  {
   "cell_type": "code",
   "execution_count": 242,
   "metadata": {
    "collapsed": false
   },
   "outputs": [
    {
     "data": {
      "text/plain": [
       ":(1 + 1)"
      ]
     },
     "execution_count": 242,
     "metadata": {},
     "output_type": "execute_result"
    }
   ],
   "source": [
    "ex1 = parse(prog)"
   ]
  },
  {
   "cell_type": "code",
   "execution_count": 243,
   "metadata": {
    "collapsed": false
   },
   "outputs": [
    {
     "data": {
      "text/plain": [
       "Expr"
      ]
     },
     "execution_count": 243,
     "metadata": {},
     "output_type": "execute_result"
    }
   ],
   "source": [
    "typeof(ex1)"
   ]
  },
  {
   "cell_type": "code",
   "execution_count": 244,
   "metadata": {
    "collapsed": false
   },
   "outputs": [
    {
     "data": {
      "text/plain": [
       "3-element Array{Any,1}:\n",
       "  :+\n",
       " 1  \n",
       " 1  "
      ]
     },
     "execution_count": 244,
     "metadata": {},
     "output_type": "execute_result"
    }
   ],
   "source": [
    "ex1.args"
   ]
  },
  {
   "cell_type": "code",
   "execution_count": 290,
   "metadata": {
    "collapsed": false
   },
   "outputs": [
    {
     "name": "stdout",
     "output_type": "stream",
     "text": [
      "0.00030976955923511795 * 0.5771688163806854 = 0.00017878932985449964\n",
      "0.11705519000844977 * 0.5744767792688561 = 0.0672454885527582\n",
      "0.9895346528592499 * 0.2422579730275114 = 0.23972265924216402\n",
      "0.49989503157206094 * 0.7600013039791633 = 0.37992087584747136\n",
      "0.12561768614811486 * 0.460822003356387 = 0.05788739378776816\n",
      "0.2706035947381029 * 0.28522620300569246 = 0.07718323584684027\n",
      "0.16496090410303177 * 0.7359209712067707 = 0.1213981887586501\n",
      "0.7858765755310992 * 0.34838814669529805 = 0.2737900836805271\n",
      "0.5478768814910593 * 0.6585847006673498 = 0.36082333199935035\n"
     ]
    }
   ],
   "source": [
    "function functional_mymult(x,y)\n",
    "    mx,nx = size(x)\n",
    "    my,ny = size(y)\n",
    "    assert(mx==my)\n",
    "    assert(nx==ny)\n",
    "    \n",
    "    for i = 1:length(x)\n",
    "        x_i = x[i]\n",
    "        y_i = y[i]\n",
    "        exp = :($x_i * $y_i)\n",
    "        print(join([exp, \" = \"]))\n",
    "        println(eval(exp))\n",
    "    end\n",
    "end\n",
    "\n",
    "vec1 = rand(3,3)\n",
    "vec2 = rand(3,3)\n",
    "functional_mymult(vec1,vec2)"
   ]
  }
 ],
 "metadata": {
  "anaconda-cloud": {},
  "kernelspec": {
   "display_name": "Julia 0.4.6",
   "language": "julia",
   "name": "julia-0.4"
  },
  "language_info": {
   "file_extension": ".jl",
   "mimetype": "application/julia",
   "name": "julia",
   "version": "0.4.6"
  }
 },
 "nbformat": 4,
 "nbformat_minor": 0
}
