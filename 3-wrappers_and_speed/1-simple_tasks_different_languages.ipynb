{
 "cells": [
  {
   "cell_type": "markdown",
   "metadata": {},
   "source": [
    "### First experiment: Iterative Fibonacci.\n",
    "Codes obtained from [http://rosettacode.org/wiki/Fibonacci_sequence] for Python and Julia. \n",
    "We will use the codes:\n",
    "* C++ (Iterative version)\n",
    "* Python (Iterative version)\n",
    "* Julia (Iterative version\n",
    "\n",
    "Iterations are based on:\n",
    "$(x,y) \\gets (y,x+y)$"
   ]
  },
  {
   "cell_type": "markdown",
   "metadata": {},
   "source": [
    "#### For convenience, C++ code:\n",
    "```\n",
    "// iterative version\n",
    "int Fibonacci(int n)\n",
    "{\n",
    "\tint x = 0;\n",
    "\tint y = 1;\n",
    "\tint t;\n",
    "\tfor(int i=1; i<n; ++i)\n",
    "\t{\n",
    "\t    t = x;\n",
    "\t    x = y;\n",
    "\t    y = t+y;\n",
    "\t}\n",
    "\treturn y;\n",
    "}\n",
    "```"
   ]
  },
  {
   "cell_type": "markdown",
   "metadata": {},
   "source": [
    "#### For convenience, Python code:\n",
    "```\n",
    "def fibIter(n):\n",
    "    if n < 2:\n",
    "        return n\n",
    "    fibPrev = 1\n",
    "    fib = 1\n",
    "    for num in xrange(2, n):\n",
    "        fibPrev, fib = fib, fib + fibPrev\n",
    "    return fib\n",
    "```"
   ]
  },
  {
   "cell_type": "markdown",
   "metadata": {},
   "source": [
    "#### For convenience, Julia code:\n",
    "```\n",
    "function fib(n)\n",
    "  x,y = (0,1)\n",
    "  for i = 1:n x,y = (y, x+y) end\n",
    "  x\n",
    "end\n",
    "```"
   ]
  },
  {
   "cell_type": "code",
   "execution_count": 53,
   "metadata": {
    "collapsed": false
   },
   "outputs": [
    {
     "data": {
      "text/plain": [
       "fib (generic function with 1 method)"
      ]
     },
     "execution_count": 53,
     "metadata": {},
     "output_type": "execute_result"
    }
   ],
   "source": [
    "# run julia code here:\n",
    "function fib(n)\n",
    "  x,y = (0,1)\n",
    "  for i = 1:n x,y = (y, x+y) end\n",
    "  x\n",
    "end"
   ]
  },
  {
   "cell_type": "code",
   "execution_count": 66,
   "metadata": {
    "collapsed": false
   },
   "outputs": [
    {
     "name": "stdout",
     "output_type": "stream",
     "text": [
      "  0.000020 seconds (10 allocations: 160 bytes)\n",
      "f = 6765\n"
     ]
    },
    {
     "name": "stderr",
     "output_type": "stream",
     "text": [
      "WARNING: redefining constant f\n",
      "WARNING: redefining constant f\n"
     ]
    },
    {
     "data": {
      "text/plain": [
       "6765"
      ]
     },
     "execution_count": 66,
     "metadata": {},
     "output_type": "execute_result"
    }
   ],
   "source": [
    "const f = 0\n",
    "@time for i = 1:10\n",
    "    f = fib(20)\n",
    "end\n",
    "@show f"
   ]
  },
  {
   "cell_type": "markdown",
   "metadata": {},
   "source": [
    "Link to [Python notebook](Python_codes.ipynb)\n",
    "\n",
    "Link to [C++ code](Fib.cpp)\n",
    "Run:\n",
    "```\n",
    "$g++ Fib.cpp\n",
    "$./a.out 20\n",
    "```"
   ]
  },
  {
   "cell_type": "markdown",
   "metadata": {},
   "source": [
    "# Next, we want to write wrappers for both of the Python and C++ codes"
   ]
  },
  {
   "cell_type": "markdown",
   "metadata": {},
   "source": [
    "### starting with C++ code:\n",
    "    * copy the function Fibonacci to a new file, add `extern \"C\"` to your code. The new code should be:\n",
    "```\n",
    "#include <stdint.h>\n",
    "\n",
    "extern \"C\"\n",
    "{\n",
    "int64_t Fibonacci(int64_t n)\n",
    "{\n",
    "\tint x = 0;\n",
    "\tint y = 1;\n",
    "\tint t;\n",
    "\tfor(int i=1; i<n; ++i)\n",
    "\t{\n",
    "\t    t = x;\n",
    "\t    x = y;\n",
    "\t    y = t+y;\n",
    "\t}\n",
    "\treturn y;\n",
    "}\n",
    "};\n",
    "```\n",
    "    * create a makefile to generate the shared libraries. Makefile code would look like:\n",
    "```\n",
    "UNAME := $(shell uname)\n",
    "ifeq ($(UNAME),Linux)\n",
    "\tSHAREDLIB_EXT := so\n",
    "\tSHAREDLIB_FLAG := -shared\n",
    "endif\n",
    "ifeq ($(UNAME),Darwin)\n",
    "\tSHAREDLIB_EXT := dylib\n",
    "\tSHAREDLIB_FLAG := -dynamiclib\n",
    "endif\n",
    "\n",
    "CURDIR := $(shell pwd)\n",
    "FIBOLIBNAME := $(CURDIR)/Fibo_externC.$(SHAREDLIB_EXT)\n",
    "\n",
    "CXXFLAGS:= -std=c++0x -U__STRICT_ANSI__ -O3 -fPIC -c\n",
    "OBJS=Fibo_externC.o\n",
    "all: fibonacci\n",
    "\n",
    ".PHONY: all clean\n",
    "\n",
    "fibonacci: Fibo_externC.cpp\n",
    "\tg++ $(CXXFLAGS) Fibo_externC.cpp\n",
    "\tg++ $(SHAREDLIB_FLAG) -o $(FIBOLIBNAME) Fibo_externC.o\n",
    "        # used to use this to fix lib paths:\n",
    "        # export LD_LIBRARY_PATH=$(CURDIR):$$LD_LIBRARY_PATH\n",
    "\t\n",
    "clean:\n",
    "\t$(RM) -rf $(OBJS)\n",
    "\t$(RM) -rf $(FIBOLIBNAME)\n",
    "```"
   ]
  },
  {
   "cell_type": "code",
   "execution_count": 7,
   "metadata": {
    "collapsed": false
   },
   "outputs": [
    {
     "name": "stderr",
     "output_type": "stream",
     "text": [
      "WARNING: redefining constant libpath\n"
     ]
    },
    {
     "data": {
      "text/plain": [
       "\"/Users/hudanassar/Documents/A-Research/Presentations/PyDataChi2016/3-wrappers_and_speed/Fibo_externC.dylib\""
      ]
     },
     "execution_count": 7,
     "metadata": {},
     "output_type": "execute_result"
    }
   ],
   "source": [
    "if OS_NAME == :Linux\n",
    "    const libpath = string(pwd(), \"/Fibo_externC.so\")\n",
    "else\n",
    "    const libpath = string(pwd(), \"/Fibo_externC.dylib\")\n",
    "end"
   ]
  },
  {
   "cell_type": "code",
   "execution_count": 8,
   "metadata": {
    "collapsed": false
   },
   "outputs": [
    {
     "data": {
      "text/plain": [
       "cpp_wrapped_fibo (generic function with 1 method)"
      ]
     },
     "execution_count": 8,
     "metadata": {},
     "output_type": "execute_result"
    }
   ],
   "source": [
    "function cpp_wrapped_fibo(n::Int64)\n",
    "    r = ccall( (:Fibonacci_I, libpath), # function + library\n",
    "                    Int64, # return type\n",
    "                    (Int64,),\n",
    "                    n)\n",
    "    return r\n",
    "end"
   ]
  },
  {
   "cell_type": "code",
   "execution_count": 14,
   "metadata": {
    "collapsed": false
   },
   "outputs": [
    {
     "name": "stdout",
     "output_type": "stream",
     "text": [
      "  0.000015 seconds (10 allocations: 160 bytes)\n",
      "f = 6765\n"
     ]
    },
    {
     "name": "stderr",
     "output_type": "stream",
     "text": [
      "WARNING: redefining constant f\n",
      "WARNING: redefining constant f\n"
     ]
    },
    {
     "data": {
      "text/plain": [
       "6765"
      ]
     },
     "execution_count": 14,
     "metadata": {},
     "output_type": "execute_result"
    }
   ],
   "source": [
    "const h = 0\n",
    "@time for i = 1:10\n",
    "    h = cpp_wrapped_fibo(20)\n",
    "end\n",
    "@show h"
   ]
  },
  {
   "cell_type": "markdown",
   "metadata": {
    "collapsed": false
   },
   "source": [
    "### Wrapper for Python code now:\n",
    "* Create file fibo.py\n",
    "```\n",
    "def fibIter(n):\n",
    "    if n < 2:\n",
    "        return n\n",
    "    fibPrev = 1\n",
    "    fib = 1\n",
    "    for num in xrange(2, n):\n",
    "        fibPrev, fib = fib, fib + fibPrev\n",
    "    return fib\n",
    "```"
   ]
  },
  {
   "cell_type": "code",
   "execution_count": 1,
   "metadata": {
    "collapsed": false
   },
   "outputs": [
    {
     "data": {
      "text/plain": [
       "PyObject ['', '/Users/hudanassar/anaconda/lib/python27.zip', '/Users/hudanassar/anaconda/lib/python2.7', '/Users/hudanassar/anaconda/lib/python2.7/plat-darwin', '/Users/hudanassar/anaconda/lib/python2.7/plat-mac', '/Users/hudanassar/anaconda/lib/python2.7/plat-mac/lib-scriptpackages', '/Users/hudanassar/anaconda/lib/python2.7/lib-tk', '/Users/hudanassar/anaconda/lib/python2.7/lib-old', '/Users/hudanassar/anaconda/lib/python2.7/lib-dynload', '/Users/hudanassar/anaconda/lib/python2.7/site-packages', '/Users/hudanassar/anaconda/lib/python2.7/site-packages/Sphinx-1.4.1-py2.7.egg', '/Users/hudanassar/anaconda/lib/python2.7/site-packages/aeosa', '/Users/hudanassar/anaconda/lib/python2.7/site-packages/setuptools-23.0.0-py2.7.egg']"
      ]
     },
     "execution_count": 1,
     "metadata": {},
     "output_type": "execute_result"
    }
   ],
   "source": [
    "using PyCall #if calling this for the first time, add the package first by typing Pkg.add(\"PyCall\")\n",
    "unshift!(PyVector(pyimport(\"sys\")[\"path\"]), \"\") #to tell pyimport search in the local directory"
   ]
  },
  {
   "cell_type": "code",
   "execution_count": 4,
   "metadata": {
    "collapsed": false
   },
   "outputs": [],
   "source": [
    "@pyimport fibo"
   ]
  },
  {
   "cell_type": "code",
   "execution_count": 6,
   "metadata": {
    "collapsed": false
   },
   "outputs": [
    {
     "name": "stdout",
     "output_type": "stream",
     "text": [
      "  0.000168 seconds (140 allocations: 3.906 KB)\n"
     ]
    },
    {
     "name": "stderr",
     "output_type": "stream",
     "text": [
      "WARNING: redefining constant z\n",
      "WARNING: redefining constant z\n"
     ]
    },
    {
     "name": "stdout",
     "output_type": "stream",
     "text": [
      "z = 6765\n"
     ]
    },
    {
     "data": {
      "text/plain": [
       "6765"
      ]
     },
     "execution_count": 6,
     "metadata": {},
     "output_type": "execute_result"
    }
   ],
   "source": [
    "const z = 0\n",
    "@time for i = 1:10\n",
    "    z = fibo.fibIter(20)\n",
    "end\n",
    "@show z"
   ]
  }
 ],
 "metadata": {
  "anaconda-cloud": {},
  "kernelspec": {
   "display_name": "Julia 0.4.6",
   "language": "julia",
   "name": "julia-0.4"
  },
  "language_info": {
   "file_extension": ".jl",
   "mimetype": "application/julia",
   "name": "julia",
   "version": "0.4.6"
  }
 },
 "nbformat": 4,
 "nbformat_minor": 0
}
