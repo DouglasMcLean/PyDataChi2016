{
 "cells": [
  {
   "cell_type": "markdown",
   "metadata": {},
   "source": [
    "### For convenience, providing both versions of the code:\n",
    "#### Python code:\n",
    "```\n",
    "from snapvx import *\n",
    "#Create new graph\n",
    "gvx = TGraphVX()\n",
    "\n",
    "#Use CVXPY syntax to define a problem\n",
    "x1 = Variable(1, name='x1')\n",
    "obj = square(x1)\n",
    "#Add Node 1 with the given objective, with the constraint that x1 <= 10\n",
    "gvx.AddNode(1, Objective=obj, Constraints=[x1 <= 10])\n",
    "\n",
    "#Similarly, add Node 2 with objective |x2 + 3|\n",
    "x2 = Variable(1, name='x2')\n",
    "obj2 = abs(x2 + 3)\n",
    "gvx.AddNode(2, obj2, [])\n",
    "\n",
    "#Add an edge between the two nodes, \n",
    "#Define an objective, constraints using CVXPY syntax\n",
    "gvx.AddEdge(1, 2, Objective=square(norm(x1 - x2)), Constraints=[])\n",
    "\n",
    "gvx.Solve() #Solve the problem\n",
    "gvx.PrintSolution() #Print entire solution on a node-by-node basis\n",
    "print \"x1 = \", x1.value, \"; x2 = \", x2.value #Print the solutions of individual variables\n",
    "```\n",
    "### Julia code\n",
    "```\n",
    "@pyimport snapvx\n",
    "gvx = snapvx.TGraphVX()\n",
    "@pyimport cvxpy\n",
    "x1 = cvxpy.Variable(1, name=\"x1\")\n",
    "obj = cvxpy.square(x1)\n",
    "@pyimport cvxpy.constraints as cvxpyconstraints\n",
    "gvxconstraints = cvxpyconstraints.LeqConstraint(x1,10)\n",
    "gvx[:AddNode](1, Objective=obj, Constraints=[gvxconstraints])\n",
    "x2 = cvxpy.Variable(1, name=\"x2\")\n",
    "@pyimport cvxpy.expressions as cvxpyexpressions\n",
    "tt = cvxpyexpressions.Expression[:__add__](x2,3)\n",
    "obj2 = cvxpy.abs(tt)\n",
    "obj2 = cvxpy.abs(tt)\n",
    "gvx[:AddNode](2, Objective=obj2, Constraints=[])\n",
    "tt2 = cvxpyexpressions.Expression[:__sub__](x1,x2)\n",
    "gvx[:AddEdge](1, 2, Objective=cvxpy.square(cvxpy.norm(tt2)), Constraints=[])\n",
    "gvx[:Solve]()\n",
    "gvx[:PrintSolution]()\n",
    "gvx[:PrintSolution]()\n",
    "```"
   ]
  },
  {
   "cell_type": "code",
   "execution_count": 15,
   "metadata": {
    "collapsed": false
   },
   "outputs": [
    {
     "name": "stderr",
     "output_type": "stream",
     "text": [
      "WARNING: replacing module SnapVxfuncs\n",
      "WARNING: Method definition <=(PyCall.PyObject, PyCall.PyObject) in module SnapVxfuncs at In[10]:16 overwritten in module SnapVxfuncs at In[15]:16.\n",
      "WARNING: Method definition -(PyCall.PyObject, PyCall.PyObject) in module SnapVxfuncs at In[10]:21 overwritten in module SnapVxfuncs at In[15]:31.\n",
      "WARNING: Method definition +(PyCall.PyObject, PyCall.PyObject) in module SnapVxfuncs at In[10]:26 overwritten in module SnapVxfuncs at In[15]:36.\n",
      "WARNING: Method definition +(PyCall.PyObject, Integer) in module SnapVxfuncs at In[10]:30 overwritten in module SnapVxfuncs at In[15]:40.\n"
     ]
    },
    {
     "data": {
      "text/plain": [
       "SnapVxfuncs"
      ]
     },
     "execution_count": 15,
     "metadata": {},
     "output_type": "execute_result"
    }
   ],
   "source": [
    "module SnapVxfuncs\n",
    "\n",
    "using PyCall\n",
    "@pyimport snapvx\n",
    "@pyimport cvxpy\n",
    "@pyimport cvxpy.constraints as cvxpyconstraints\n",
    "@pyimport cvxpy.expressions as cvxpyexpressions\n",
    "\n",
    "\n",
    "function TGraphVX()\n",
    "    snapvx.TGraphVX()\n",
    "end\n",
    "\n",
    "import Base.<=\n",
    "function <=(var1::PyCall.PyObject,var2::PyCall.PyObject)\n",
    "    gvxconstraints = cvxpyconstraints.LeqConstraint(var1,var2)\n",
    "end\n",
    "\n",
    "import Base.<=\n",
    "function <=(var1::Integer,var2::PyCall.PyObject)\n",
    "    gvxconstraints = cvxpyconstraints.LeqConstraint(var1,var2)\n",
    "end\n",
    "\n",
    "import Base.<=\n",
    "function <=(var1::PyCall.PyObject,var2::Integer)\n",
    "    gvxconstraints = cvxpyconstraints.LeqConstraint(var2,var1)\n",
    "end\n",
    "\n",
    "import Base.-\n",
    "function -(var1::PyCall.PyObject,var2::PyCall.PyObject)\n",
    "    cvxpyexpressions.Expression[:__sub__](var1,var2)\n",
    "end\n",
    "\n",
    "import Base.+\n",
    "function +(var1::PyCall.PyObject,var2::PyCall.PyObject)\n",
    "    cvxpyexpressions.Expression[:__add__](var1,var2)\n",
    "end\n",
    "\n",
    "function +(var1::PyCall.PyObject,var2::Integer)\n",
    "    cvxpyexpressions.Expression[:__add__](var1,var2)\n",
    "end\n",
    "\n",
    "export TGraphVX,+,-,.<=,cvxpy\n",
    "end\n"
   ]
  },
  {
   "cell_type": "code",
   "execution_count": 17,
   "metadata": {
    "collapsed": false
   },
   "outputs": [
    {
     "name": "stdout",
     "output_type": "stream",
     "text": [
      "Status: Optimal\n",
      "Total Objective: 112.750173\n",
      "Node 1:\n",
      "  x1 [ 10.00000002]\n",
      "Node 2:\n",
      "  x2 [ 9.5131279]\n",
      "Status: Optimal\n",
      "Total Objective: 112.750173\n",
      "Node 1:\n",
      "  x1 [ 10.00000002]\n",
      "Node 2:\n",
      "  x2 [ 9.5131279]\n"
     ]
    }
   ],
   "source": [
    "using SnapVxfuncs\n",
    "gvx = TGraphVX()\n",
    "x1 = cvxpy.Variable(1, name=\"x1\")\n",
    "obj = cvxpy.square(x1)\n",
    "gvx[:AddNode](1, Objective=obj, Constraints=[x1<=10])\n",
    "\n",
    "x2 = cvxpy.Variable(1, name=\"x2\")\n",
    "obj2 = cvxpy.abs(x2+3)\n",
    "gvx[:AddNode](2, Objective=obj2, Constraints=[])\n",
    "\n",
    "gvx[:AddEdge](1, 2, Objective=cvxpy.square(cvxpy.norm(x1-x2)), Constraints=[])\n",
    "gvx[:Solve]()\n",
    "gvx[:PrintSolution]()\n",
    "gvx[:PrintSolution]()"
   ]
  }
 ],
 "metadata": {
  "kernelspec": {
   "display_name": "Julia 0.4.6",
   "language": "julia",
   "name": "julia-0.4"
  },
  "language_info": {
   "file_extension": ".jl",
   "mimetype": "application/julia",
   "name": "julia",
   "version": "0.4.6"
  }
 },
 "nbformat": 4,
 "nbformat_minor": 0
}
