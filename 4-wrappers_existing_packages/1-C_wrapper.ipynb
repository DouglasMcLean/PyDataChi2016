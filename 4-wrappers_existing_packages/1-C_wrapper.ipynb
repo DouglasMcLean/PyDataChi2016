{
 "cells": [
  {
   "cell_type": "markdown",
   "metadata": {},
   "source": [
    "### Now, we want to go over an example of wrapping an existing C software package\n",
    "Software package we'll be working with: https://github.com/ntamas/plfit\n",
    "\n",
    "This code fits power-law distributions to your data."
   ]
  },
  {
   "cell_type": "markdown",
   "metadata": {},
   "source": [
    "#### Making sure the C code works first\n",
    "From the terminal:\n",
    "```\n",
    "$ git clone https://github.com/ntamas/plfit\n",
    "$ mv plfit plfit_original_code\n",
    "$ cd plfit_original_code/\n",
    "$ mkdir build\n",
    "$ cd build\n",
    "$ cp ../../input_data.txt .\n",
    "$ gcc -o plfit -I../src -lm `ls ../src/*.c | grep -F -v plgen.c`\n",
    "$ ./plfit input_data.txt\n",
    "$ cd ../../\n",
    "```\n",
    "The output will be print to the screen as follows:\n",
    "```\n",
    "input_data.txt:\n",
    "\tDiscrete MLE\n",
    "\talpha =      3.87363\n",
    "\txmin  =      2.00000\n",
    "\tL     =    -89.79272\n",
    "\tD     =      0.01503\n",
    "```"
   ]
  },
  {
   "cell_type": "markdown",
   "metadata": {},
   "source": [
    "#### Writing the Julia wrapper\n",
    "We will create a differnet folder for the wrapper for convenience:\n",
    "From the terminal:\n",
    "```\n",
    "$ git clone https://github.com/ntamas/plfit\n",
    "$ mv plfit plfit_Julia_wrapper\n",
    "$ cd plfit_Julia_wrapper/\n",
    "$ mkdir build\n",
    "$ cd build\n",
    "$ cp ../../input_data.txt .\n",
    "$ cp ../../Makefile .\n",
    "```\n",
    "\n",
    "This requires changes to the file `../src/main.c`, move new `main.c` to folder `src`\n",
    "```\n",
    "$ rm ../src/main.c \n",
    "$ cp ../../main.c ../src/\n",
    "```\n",
    "\n",
    "Now we have all what we need, we need to compile and create the shared library\n",
    "```\n",
    "$ make\n",
    "```\n",
    "You should now see the file `libplfit.dylib` in you current folder"
   ]
  },
  {
   "cell_type": "code",
   "execution_count": 19,
   "metadata": {
    "collapsed": false
   },
   "outputs": [
    {
     "name": "stdout",
     "output_type": "stream",
     "text": [
      "input_data.txt:\n",
      "\tContinuous MLE\n",
      "\talpha =      4.75701\n",
      "\txmin  =      6.00000\n",
      "\tL     =     -5.20292\n",
      "\tD     =      0.32735\n",
      "\n"
     ]
    },
    {
     "name": "stderr",
     "output_type": "stream",
     "text": [
      "WARNING: redefining constant libpath\n"
     ]
    }
   ],
   "source": [
    "# remember that we are in the \"4-wrappers_existing_packages\" directory on this notebook still\n",
    "const libpath = string(pwd(), \"/plfit_Julia_wrapper/build/libplfit.dylib\")\n",
    "# tryin a quick test\n",
    "ccall( (:process_file, libpath), # function + library\n",
    "                        Void, # return type\n",
    "                        (Ptr{UInt8},Ptr{UInt8},),\n",
    "                        \"input_data.txt\",\"./plfit -c\")"
   ]
  },
  {
   "cell_type": "code",
   "execution_count": 26,
   "metadata": {
    "collapsed": false
   },
   "outputs": [
    {
     "data": {
      "text/plain": [
       "plfit_julia_wrapper (generic function with 1 method)"
      ]
     },
     "execution_count": 26,
     "metadata": {},
     "output_type": "execute_result"
    }
   ],
   "source": [
    "# we can put this in a function and add some documentation\n",
    "\"\"\"\n",
    "plfit_julia_wrapper(filename,runoptions)\n",
    "filename is the name of the file that contains your node degrees. Example file:\n",
    "5\n",
    "4\n",
    "3\n",
    "3\n",
    "2\n",
    "2\n",
    "2\n",
    "1\n",
    "1\n",
    "1\n",
    "\n",
    "runoptions could be a combination of any of these options:\n",
    "\"    -h        shows this help message\\n\"\n",
    "\"    -v        shows version information\\n\"\n",
    "\"    -a RANGE  use legacy brute-force search for the optimal alpha\\n\"\n",
    "\"              when a discrete power-law distribution is fitted.\\n\"\n",
    "\"              RANGE must be in MIN:STEP:MAX format, the default\\n\"\n",
    "\"              is 1.5:0.01:3.5.\\n\"\n",
    "\"    -b        brief (but easily parseable) output format\\n\"\n",
    "\"    -c        force continuous fitting even when every sample\\n\"\n",
    "\"              is an integer\\n\"\n",
    "\"    -D VALUE  divide each sample in the input data by VALUE to prevent\\n\"\n",
    "\"              underflows when fitting discrete power-law distribution\\n\"\n",
    "\"    -e EPS    try to provide a p-value with a precision of EPS when\\n\"\n",
    "\"              the p-value is calculated using the exact method. The\\n\"\n",
    "\"              default is 0.01.\\n\"\n",
    "\"    -f        use finite-size correction\\n\"\n",
    "\"    -m XMIN   use XMIN as the minimum value for x instead of searching\\n\"\n",
    "\"              for the optimal value\\n\"\n",
    "\"    -M        print the first four central moments (i.e. mean, variance,\\n\"\n",
    "\"              skewness and kurtosis) of the input data to help\\n\"\n",
    "\"              assessing the shape of the pdf it may have come from.\\n\"\n",
    "\"    -p METHOD use METHOD to calculate the p-value. Must be one of\\n\"\n",
    "\"              skip, approximate or exact. Default is skip.\\n\"\n",
    "\"    -s SEED   use SEED to seed the random number generator\\n\"\n",
    "\n",
    "example: plfit_julia_wrapper(\"input_data.txt\",\"./plfit -c\")\n",
    "\n",
    "\"\"\"\n",
    "function plfit_julia_wrapper(filename::ASCIIString,runoptions::ASCIIString)\n",
    "    ccall( (:process_file, libpath), # function + library\n",
    "                            Void, # return type\n",
    "                            (Ptr{UInt8},Ptr{UInt8},),# input types\n",
    "                            filename,runoptions)#input values\n",
    "end"
   ]
  },
  {
   "cell_type": "code",
   "execution_count": 28,
   "metadata": {
    "collapsed": false
   },
   "outputs": [
    {
     "name": "stdout",
     "output_type": "stream",
     "text": [
      "input_data.txt:\n",
      "\tContinuous MLE\n",
      "\talpha =      4.75701\n",
      "\txmin  =      6.00000\n",
      "\tL     =     -5.20292\n",
      "\tD     =      0.32735\n",
      "\n"
     ]
    }
   ],
   "source": [
    "plfit_julia_wrapper(\"input_data.txt\",\"./plfit -c\") #run continuous"
   ]
  },
  {
   "cell_type": "code",
   "execution_count": 29,
   "metadata": {
    "collapsed": false
   },
   "outputs": [
    {
     "name": "stdout",
     "output_type": "stream",
     "text": [
      "input_data.txt:\n",
      "\tDiscrete MLE\n",
      "\talpha =      3.87363\n",
      "\txmin  =      2.00000\n",
      "\tL     =    -89.79272\n",
      "\tD     =      0.01503\n",
      "\n"
     ]
    }
   ],
   "source": [
    "plfit_julia_wrapper(\"input_data.txt\",\"\") #run default"
   ]
  },
  {
   "cell_type": "code",
   "execution_count": 30,
   "metadata": {
    "collapsed": false
   },
   "outputs": [
    {
     "name": "stdout",
     "output_type": "stream",
     "text": [
      "plfit 0.7\n"
     ]
    }
   ],
   "source": [
    "plfit_julia_wrapper(\"input_data.txt\",\"./plfit -v\") #get version"
   ]
  },
  {
   "cell_type": "code",
   "execution_count": 33,
   "metadata": {
    "collapsed": false
   },
   "outputs": [
    {
     "name": "stdout",
     "output_type": "stream",
     "text": [
      "input_data.txt: C 4.75701 6 -5.20292 0.327351 nan\n"
     ]
    }
   ],
   "source": [
    "plfit_julia_wrapper(\"input_data.txt\",\"./plfit -b -c\") #brief and continuous"
   ]
  },
  {
   "cell_type": "code",
   "execution_count": 34,
   "metadata": {
    "collapsed": false
   },
   "outputs": [
    {
     "name": "stderr",
     "output_type": "stream",
     "text": [
      "wrong_file.txt: No such file or directory\n"
     ]
    }
   ],
   "source": [
    "plfit_julia_wrapper(\"wrong_file.txt\",\"./plfit -c\") #pass a wrong file"
   ]
  },
  {
   "cell_type": "code",
   "execution_count": 37,
   "metadata": {
    "collapsed": false
   },
   "outputs": [
    {
     "name": "stderr",
     "output_type": "stream",
     "text": [
      "Invalid option `-Z'\n"
     ]
    }
   ],
   "source": [
    "plfit_julia_wrapper(\"input_data.txt\",\"./plfit -Z\") #invalid option"
   ]
  },
  {
   "cell_type": "code",
   "execution_count": null,
   "metadata": {
    "collapsed": true
   },
   "outputs": [],
   "source": []
  }
 ],
 "metadata": {
  "kernelspec": {
   "display_name": "Julia 0.4.6",
   "language": "julia",
   "name": "julia-0.4"
  },
  "language_info": {
   "file_extension": ".jl",
   "mimetype": "application/julia",
   "name": "julia",
   "version": "0.4.6"
  }
 },
 "nbformat": 4,
 "nbformat_minor": 0
}
