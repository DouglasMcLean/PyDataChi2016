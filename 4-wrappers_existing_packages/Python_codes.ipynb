{
 "cells": [
  {
   "cell_type": "markdown",
   "metadata": {},
   "source": [
    "### Example codes from snapvx\n",
    "Example 1. We first look at a simple example with two nodes and one edge between them. The two nodes have different objectives, both in $\\mathbb R^1$, and the edge objective penalizes the square of the difference of the variables."
   ]
  },
  {
   "cell_type": "code",
   "execution_count": 2,
   "metadata": {
    "collapsed": false
   },
   "outputs": [
    {
     "name": "stdout",
     "output_type": "stream",
     "text": [
      "Status: Optimal\n",
      "Total Objective: 2.500335\n",
      "Node 1:\n",
      "  x1 [-0.51706729]\n",
      "Node 2:\n",
      "  x2 [-1.02366535]\n",
      "x1 =  -0.517067292938 ; x2 =  -1.02366535108\n"
     ]
    }
   ],
   "source": [
    "from snapvx import *\n",
    "#Create new graph\n",
    "gvx = TGraphVX()\n",
    "\n",
    "#Use CVXPY syntax to define a problem\n",
    "x1 = Variable(1, name='x1')\n",
    "obj = square(x1)\n",
    "#Add Node 1 with the given objective, with the constraint that x1 <= 10\n",
    "gvx.AddNode(1, Objective=obj, Constraints=[x1 <= 10])\n",
    "\n",
    "#Similarly, add Node 2 with objective |x2 + 3|\n",
    "x2 = Variable(1, name='x2')\n",
    "obj2 = abs(x2 + 3)\n",
    "gvx.AddNode(2, obj2, [])\n",
    "\n",
    "#Add an edge between the two nodes, \n",
    "#Define an objective, constraints using CVXPY syntax\n",
    "gvx.AddEdge(1, 2, Objective=square(norm(x1 - x2)), Constraints=[])\n",
    "\n",
    "gvx.Solve() #Solve the problem\n",
    "gvx.PrintSolution() #Print entire solution on a node-by-node basis\n",
    "print \"x1 = \", x1.value, \"; x2 = \", x2.value #Print the solutions of individual variables"
   ]
  },
  {
   "cell_type": "markdown",
   "metadata": {},
   "source": [
    "Example 2: Random Graph. Next, we look at a slightly larger example. We build a random graph (using GenRndGnm), set each node objective to the square loss from a random point in $\\mathbb R^{10}$, and use laplacian regularization on the edges."
   ]
  },
  {
   "cell_type": "code",
   "execution_count": 14,
   "metadata": {
    "collapsed": false
   },
   "outputs": [
    {
     "name": "stdout",
     "output_type": "stream",
     "text": [
      "Status: Optimal\n",
      "Total Objective: 58.367631\n",
      "Node 0:\n",
      "  x [ 0.26654486 -0.33153663 -0.26586178 -0.13822058  0.39428357 -0.81025355  0.32399164  0.19578661  0.33746554  0.34631966]\n",
      "Node 1:\n",
      "  x [ 0.18306269 -0.42816156 -0.20520863 -0.07686966  0.42376548 -0.63761584  0.08692271  0.16481059  0.34767127  0.41473059]\n",
      "Node 2:\n",
      "  x [-0.19086186 -0.00124975 -0.0013708   0.06803922  0.41479151 -0.54048413  0.02065183  0.04473737  0.25022908  0.4729811 ]\n",
      "Node 3:\n",
      "  x [-0.07588868 -0.26492133 -0.25352697 -0.08461505  0.2065418  -0.49406509 -0.06724384  0.30152482  0.49299726  0.484503  ]\n",
      "Node 4:\n",
      "  x [-0.00061248 -0.30543156 -0.27286991  0.17645171  0.27753634 -0.57111417  0.1307811   0.56799756  0.37111355  0.41903049]\n",
      "Node 5:\n",
      "  x [ 0.05174711 -0.28433417 -0.33110526 -0.04504249  0.25776575 -0.45854966  0.19730495  0.36858396  0.34395258  0.49498263]\n",
      "Node 6:\n",
      "  x [-0.08502476  0.02836057 -0.06052553 -0.04815531  0.36182207 -0.44462671  0.28200317  0.57590037  0.70465035  0.06207409]\n",
      "Node 7:\n",
      "  x [-0.12204817 -0.32783534 -0.19549626  0.08899362  0.31355869 -0.77964748  0.05961576  0.38928616  0.34221412  0.47344066]\n",
      "Node 8:\n",
      "  x [-0.01932482 -0.18304934 -0.12637303  0.04220269  0.30994424 -0.46156592  0.01116498  0.33706224  0.36296836  0.47296437]\n",
      "Node 9:\n",
      "  x [ 0.16707471 -0.20229348 -0.21846042 -0.08439928  0.33632621 -0.51130016  0.05986578  0.3191164   0.28959195  0.41955549]\n",
      "Status: optimal\n",
      "Total Objective: 58.332634\n",
      "Node 0:\n",
      "  x [ 0.26984373 -0.34605895 -0.27788607 -0.13922698  0.41474005 -0.84658596  0.33317311  0.21482191  0.35930397  0.36977301]\n",
      "Node 1:\n",
      "  x [ 0.18475845 -0.44217705 -0.21594222 -0.07901566  0.4449039  -0.67237544  0.09391826  0.18152967  0.3707734   0.43832356]\n",
      "Node 2:\n",
      "  x [-0.19220259 -0.01349126 -0.01166793  0.06704854  0.43565904 -0.57388043  0.02599902  0.06209581  0.27455     0.49913436]\n",
      "Node 3:\n",
      "  x [-0.07741565 -0.27761515 -0.26448403 -0.08496885  0.22527196 -0.52638586 -0.06299445  0.32018596  0.5163051   0.50987267]\n",
      "Node 4:\n",
      "  x [ -4.21558848e-04  -3.18103210e-01  -2.84570858e-01   1.77464275e-01   2.96322687e-01  -6.04485712e-01   1.38225579e-01   5.90722614e-01   3.94582789e-01   4.42326504e-01]\n",
      "Node 5:\n",
      "  x [ 0.0519723  -0.29898149 -0.34357206 -0.04564911  0.27727554 -0.49326288  0.20487032  0.38703848  0.36649126  0.52034426]\n",
      "Node 6:\n",
      "  x [-0.084179    0.01687428 -0.07051966 -0.04851072  0.38321679 -0.47822227  0.28947567  0.59778926  0.73016905  0.08461984]\n",
      "Node 7:\n",
      "  x [-0.12093229 -0.34317388 -0.20792635  0.08850193  0.33292966 -0.81576035  0.0667804   0.40880632  0.36433817  0.49783542]\n",
      "Node 8:\n",
      "  x [-0.01969006 -0.19342489 -0.13594676  0.04237089  0.32998182 -0.49365266  0.01709834  0.35750484  0.38707722  0.49677386]\n",
      "Node 9:\n",
      "  x [ 0.16886147 -0.21481455 -0.2290702  -0.08526548  0.3563579  -0.54501553  0.06647811  0.33936925  0.31281798  0.4421943 ]\n",
      "Solution at Node 1 is [ 0.18475845 -0.44217705 -0.21594222 -0.07901566  0.4449039  -0.67237544  0.09391826  0.18152967  0.3707734   0.43832356]\n"
     ]
    }
   ],
   "source": [
    "from snapvx import *\n",
    "import numpy\n",
    "\n",
    "#Helper function to define edge objectives\n",
    "#Takes in two nodes, returns a problem defined with the variables from those nodes\n",
    "def laplace_reg(src, dst, data):\n",
    "  return (sum_squares(src['x'] - dst['x']), [])\n",
    "\n",
    "#Generate random graph, using SNAP syntax\n",
    "numpy.random.seed(1)\n",
    "num_nodes = 10\n",
    "num_edges = 30\n",
    "n = 10\n",
    "snapGraph = GenRndGnm(PUNGraph, num_nodes, num_edges)\n",
    "gvx = TGraphVX(snapGraph)\n",
    "\n",
    "#For each node, add an objective (using random data)\n",
    "for i in range(num_nodes):\n",
    "  x = Variable(n,name='x') #Each node has its own variable named 'x'\n",
    "  a = numpy.random.randn(n)\n",
    "  gvx.SetNodeObjective(i, square(norm(x-a)))\n",
    "\n",
    "#Set all edge objectives at once (Laplacian Regularization)\n",
    "gvx.AddEdgeObjectives(laplace_reg)\n",
    "\n",
    "#Solve in verbose mode (using ADMM)\n",
    "gvx.Solve()\n",
    "gvx.PrintSolution()\n",
    "\n",
    "gvx.Solve(UseADMM=False) #Solve serially (no ADMM)\n",
    "gvx.PrintSolution()\n",
    "\n",
    "#Print only the solution for 'x' at Node 1\n",
    "print \"Solution at Node 1 is\", gvx.GetNodeValue(1,'x')"
   ]
  },
  {
   "cell_type": "markdown",
   "metadata": {},
   "source": [
    "Example 3: Bulk Loading. Finally, we look at how we can bulk load the relevant data from a text file"
   ]
  },
  {
   "cell_type": "code",
   "execution_count": 6,
   "metadata": {
    "collapsed": false
   },
   "outputs": [
    {
     "name": "stdout",
     "output_type": "stream",
     "text": [
      "Status: Optimal\n",
      "Total Objective: 2.750145\n",
      "Node 1:\n",
      "  x [ 0.34398022]\n",
      "Node 2:\n",
      "  x [ 0.85601343]\n"
     ]
    }
   ],
   "source": [
    "from snapvx import *\n",
    "\n",
    "#Helper function for node objective\n",
    "#Takes in a row from the CSV file, returns an optimization problem\n",
    "def node_obj(data):\n",
    "  x = Variable(1,name='x')\n",
    "  return norm(x - float(data[0]))\n",
    "\n",
    "#Helper function for edge objective\n",
    "def laplace_reg(src, dst, data):\n",
    "  return sum_squares(src['x'] - dst['x'])\n",
    "\n",
    "#Load in Edge List to build graph with default node/edge objectives\n",
    "gvx = LoadEdgeList('BulkLoadEdges.edges')\n",
    "\n",
    "#Bulk Load node objectives:\n",
    "#Takes one row of the CSV, uses that as input to node_obj\n",
    "#There is also an (optional) input of specifying which nodes each row of the CSV refers to\n",
    "gvx.AddNodeObjectives('BulkLoadData.csv', node_obj)\n",
    "\n",
    "#Bulk load edge objectives for all edges\n",
    "gvx.AddEdgeObjectives(laplace_reg)\n",
    "\n",
    "gvx.Solve()\n",
    "gvx.PrintSolution()"
   ]
  },
  {
   "cell_type": "code",
   "execution_count": null,
   "metadata": {
    "collapsed": true
   },
   "outputs": [],
   "source": []
  }
 ],
 "metadata": {
  "anaconda-cloud": {},
  "kernelspec": {
   "display_name": "Python [Root]",
   "language": "python",
   "name": "Python [Root]"
  },
  "language_info": {
   "codemirror_mode": {
    "name": "ipython",
    "version": 2
   },
   "file_extension": ".py",
   "mimetype": "text/x-python",
   "name": "python",
   "nbconvert_exporter": "python",
   "pygments_lexer": "ipython2",
   "version": "2.7.12"
  }
 },
 "nbformat": 4,
 "nbformat_minor": 0
}
