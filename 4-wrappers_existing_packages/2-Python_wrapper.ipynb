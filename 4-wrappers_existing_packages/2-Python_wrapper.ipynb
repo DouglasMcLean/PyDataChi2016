{
 "cells": [
  {
   "cell_type": "markdown",
   "metadata": {},
   "source": [
    "### Now, we want to go over an example of wrapping an existing Python software package\n",
    "Software package we'll be working with: https://github.com/snap-stanford/snapvx. \n",
    "Other software packages that need to be installed:\n",
    "* http://snap.stanford.edu/snappy/\n",
    "* http://www.cvxpy.org/en/latest/\n",
    "\n",
    "Make sure to follow installation instructions from all these links, and once all have been successfully installed move on to the next step"
   ]
  },
  {
   "cell_type": "markdown",
   "metadata": {},
   "source": [
    "#### First we want to make sure the Python scripts work. We'll use three simple examples:\n",
    "link to the [example Python codes](Python_codes.ipynb) from snapvx"
   ]
  },
  {
   "cell_type": "markdown",
   "metadata": {},
   "source": [
    "### Example 1"
   ]
  },
  {
   "cell_type": "code",
   "execution_count": 4,
   "metadata": {
    "collapsed": true
   },
   "outputs": [],
   "source": [
    "using PyCall #make sure to have the package added already via Pkg.add(\"PyCall\")"
   ]
  },
  {
   "cell_type": "code",
   "execution_count": 5,
   "metadata": {
    "collapsed": true
   },
   "outputs": [],
   "source": [
    "@pyimport snapvx"
   ]
  },
  {
   "cell_type": "code",
   "execution_count": 6,
   "metadata": {
    "collapsed": false
   },
   "outputs": [
    {
     "data": {
      "text/plain": [
       "PyObject <snapvx.TGraphVX; proxy of <Swig Object of type 'TUNGraph *' at 0x31b00c5d0> >"
      ]
     },
     "execution_count": 6,
     "metadata": {},
     "output_type": "execute_result"
    }
   ],
   "source": [
    "gvx = snapvx.TGraphVX()"
   ]
  },
  {
   "cell_type": "code",
   "execution_count": 7,
   "metadata": {
    "collapsed": true
   },
   "outputs": [],
   "source": [
    "@pyimport cvxpy"
   ]
  },
  {
   "cell_type": "code",
   "execution_count": 8,
   "metadata": {
    "collapsed": false
   },
   "outputs": [
    {
     "data": {
      "text/plain": [
       "PyObject Variable(1, 1)"
      ]
     },
     "execution_count": 8,
     "metadata": {},
     "output_type": "execute_result"
    }
   ],
   "source": [
    "x1 = cvxpy.Variable(1, name=\"x1\")"
   ]
  },
  {
   "cell_type": "code",
   "execution_count": 9,
   "metadata": {
    "collapsed": false
   },
   "outputs": [
    {
     "data": {
      "text/plain": [
       "PyObject Expression(CONVEX, POSITIVE, (1, 1))"
      ]
     },
     "execution_count": 9,
     "metadata": {},
     "output_type": "execute_result"
    }
   ],
   "source": [
    "obj = cvxpy.square(x1)"
   ]
  },
  {
   "cell_type": "code",
   "execution_count": 10,
   "metadata": {
    "collapsed": true
   },
   "outputs": [],
   "source": [
    "@pyimport cvxpy.constraints as cvxpyconstraints"
   ]
  },
  {
   "cell_type": "code",
   "execution_count": 11,
   "metadata": {
    "collapsed": false
   },
   "outputs": [
    {
     "data": {
      "text/plain": [
       "PyObject LeqConstraint(Variable(1, 1), 10)"
      ]
     },
     "execution_count": 11,
     "metadata": {},
     "output_type": "execute_result"
    }
   ],
   "source": [
    "gvxconstraints = cvxpyconstraints.LeqConstraint(x1,10)"
   ]
  },
  {
   "cell_type": "code",
   "execution_count": 12,
   "metadata": {
    "collapsed": false
   },
   "outputs": [
    {
     "data": {
      "text/plain": [
       "1"
      ]
     },
     "execution_count": 12,
     "metadata": {},
     "output_type": "execute_result"
    }
   ],
   "source": [
    "gvx[:AddNode](1, Objective=obj, Constraints=[gvxconstraints])"
   ]
  },
  {
   "cell_type": "code",
   "execution_count": 14,
   "metadata": {
    "collapsed": false
   },
   "outputs": [
    {
     "data": {
      "text/plain": [
       "PyObject Variable(1, 1)"
      ]
     },
     "execution_count": 14,
     "metadata": {},
     "output_type": "execute_result"
    }
   ],
   "source": [
    "x2 = cvxpy.Variable(1, name=\"x2\")"
   ]
  },
  {
   "cell_type": "markdown",
   "metadata": {},
   "source": [
    "needed to add this line (`from cvxpy.expressions.expression import Expression`) to `/Users/hudanassar/anaconda/lib/python2.7/site-packages/cvxpy/expressions/__init__.py` for the following to work"
   ]
  },
  {
   "cell_type": "code",
   "execution_count": 16,
   "metadata": {
    "collapsed": true
   },
   "outputs": [],
   "source": [
    "@pyimport cvxpy.expressions as cvxpyexpressions"
   ]
  },
  {
   "cell_type": "code",
   "execution_count": 17,
   "metadata": {
    "collapsed": false
   },
   "outputs": [
    {
     "data": {
      "text/plain": [
       "PyObject Expression(AFFINE, UNKNOWN, (1, 1))"
      ]
     },
     "execution_count": 17,
     "metadata": {},
     "output_type": "execute_result"
    }
   ],
   "source": [
    "tt = cvxpyexpressions.Expression[:__add__](x2,3)"
   ]
  },
  {
   "cell_type": "code",
   "execution_count": 18,
   "metadata": {
    "collapsed": false
   },
   "outputs": [
    {
     "data": {
      "text/plain": [
       "PyObject Expression(CONVEX, POSITIVE, (1, 1))"
      ]
     },
     "execution_count": 18,
     "metadata": {},
     "output_type": "execute_result"
    }
   ],
   "source": [
    "obj2 = cvxpy.abs(tt)"
   ]
  },
  {
   "cell_type": "code",
   "execution_count": 19,
   "metadata": {
    "collapsed": false
   },
   "outputs": [
    {
     "data": {
      "text/plain": [
       "PyObject Expression(CONVEX, POSITIVE, (1, 1))"
      ]
     },
     "execution_count": 19,
     "metadata": {},
     "output_type": "execute_result"
    }
   ],
   "source": [
    "obj2 = cvxpy.abs(tt)"
   ]
  },
  {
   "cell_type": "code",
   "execution_count": 24,
   "metadata": {
    "collapsed": false
   },
   "outputs": [
    {
     "data": {
      "text/plain": [
       "2"
      ]
     },
     "execution_count": 24,
     "metadata": {},
     "output_type": "execute_result"
    }
   ],
   "source": [
    "    gvx[:AddNode](2, Objective=obj2, Constraints=[])"
   ]
  },
  {
   "cell_type": "code",
   "execution_count": 25,
   "metadata": {
    "collapsed": false
   },
   "outputs": [
    {
     "data": {
      "text/plain": [
       "PyObject Expression(AFFINE, UNKNOWN, (1, 1))"
      ]
     },
     "execution_count": 25,
     "metadata": {},
     "output_type": "execute_result"
    }
   ],
   "source": [
    "tt2 = cvxpyexpressions.Expression[:__sub__](x1,x2)"
   ]
  },
  {
   "cell_type": "code",
   "execution_count": 26,
   "metadata": {
    "collapsed": false
   },
   "outputs": [
    {
     "data": {
      "text/plain": [
       "-1"
      ]
     },
     "execution_count": 26,
     "metadata": {},
     "output_type": "execute_result"
    }
   ],
   "source": [
    "gvx[:AddEdge](1, 2, Objective=cvxpy.square(cvxpy.norm(tt2)), Constraints=[])"
   ]
  },
  {
   "cell_type": "code",
   "execution_count": 28,
   "metadata": {
    "collapsed": true
   },
   "outputs": [],
   "source": [
    "gvx[:Solve]()"
   ]
  },
  {
   "cell_type": "code",
   "execution_count": 30,
   "metadata": {
    "collapsed": false
   },
   "outputs": [
    {
     "name": "stdout",
     "output_type": "stream",
     "text": [
      "Status: Optimal\n",
      "Total Objective: 2.500335\n",
      "Node 1:\n",
      "  x1 [-0.51706729]\n",
      "Node 2:\n",
      "  x2 [-1.02366536]\n"
     ]
    }
   ],
   "source": [
    "gvx[:PrintSolution]()"
   ]
  },
  {
   "cell_type": "markdown",
   "metadata": {},
   "source": [
    "### Example 2"
   ]
  },
  {
   "cell_type": "code",
   "execution_count": 1,
   "metadata": {
    "collapsed": true
   },
   "outputs": [],
   "source": [
    "# most of these have already been added - but for the sake of making examples independent from each other\n",
    "using PyCall\n",
    "@pyimport cvxpy.expressions as cvxpyexpressions\n",
    "@pyimport numpy\n",
    "@pyimport cvxpy\n",
    "@pyimport snapvx"
   ]
  },
  {
   "cell_type": "code",
   "execution_count": 2,
   "metadata": {
    "collapsed": false
   },
   "outputs": [
    {
     "data": {
      "text/plain": [
       "PyObject <snap.PUNGraph; proxy of <Swig Object of type 'PUNGraph *' at 0x315950b10> >"
      ]
     },
     "execution_count": 2,
     "metadata": {},
     "output_type": "execute_result"
    }
   ],
   "source": [
    "numpy.random[:seed](1)\n",
    "num_edges = 30\n",
    "num_nodes = 10\n",
    "n = 10\n",
    "snapGraph = snapvx.GenRndGnm(snapvx.PUNGraph,num_nodes,num_edges)"
   ]
  },
  {
   "cell_type": "code",
   "execution_count": 3,
   "metadata": {
    "collapsed": false
   },
   "outputs": [
    {
     "data": {
      "text/plain": [
       "laplace_reg (generic function with 1 method)"
      ]
     },
     "execution_count": 3,
     "metadata": {},
     "output_type": "execute_result"
    }
   ],
   "source": [
    "function laplace_reg(src,dst,data)\n",
    "    e1 = src[\"x\"]\n",
    "    e2 = dst[\"x\"]\n",
    "    ex = cvxpyexpressions.Expression[:__sub__](e1,e2)\n",
    "    return(snapvx.sum_squares(ex),[])\n",
    "end"
   ]
  },
  {
   "cell_type": "code",
   "execution_count": 4,
   "metadata": {
    "collapsed": false
   },
   "outputs": [
    {
     "data": {
      "text/plain": [
       "PyObject <snapvx.TGraphVX; proxy of <Swig Object of type 'TUNGraph *' at 0x3159505d0> >"
      ]
     },
     "execution_count": 4,
     "metadata": {},
     "output_type": "execute_result"
    }
   ],
   "source": [
    "gvx = snapvx.TGraphVX(snapGraph)"
   ]
  },
  {
   "cell_type": "code",
   "execution_count": 5,
   "metadata": {
    "collapsed": true
   },
   "outputs": [],
   "source": [
    "for i = 0:num_nodes-1\n",
    "    x = cvxpy.Variable(n, name=\"x\")\n",
    "    a = numpy.random[:randn](n)\n",
    "    ex = cvxpyexpressions.Expression[:__sub__](x,a)\n",
    "    gvx[:SetNodeObjective](i,snapvx.square(cvxpy.norm(ex)))\n",
    "end"
   ]
  },
  {
   "cell_type": "code",
   "execution_count": 6,
   "metadata": {
    "collapsed": true
   },
   "outputs": [],
   "source": [
    "gvx[:AddEdgeObjectives](laplace_reg)"
   ]
  },
  {
   "cell_type": "code",
   "execution_count": 7,
   "metadata": {
    "collapsed": true
   },
   "outputs": [],
   "source": [
    "gvx[:Solve]()"
   ]
  },
  {
   "cell_type": "code",
   "execution_count": 8,
   "metadata": {
    "collapsed": false
   },
   "outputs": [
    {
     "name": "stdout",
     "output_type": "stream",
     "text": [
      "Status: Optimal\n",
      "Total Objective: 57.155315\n",
      "Node 0:\n",
      "  x [ 0.29378266 -0.26524219 -0.25250324 -0.23300168  0.41298769 -0.86914119  0.40773391  0.08331969  0.37224637  0.30800445]\n",
      "Node 1:\n",
      "  x [ 0.28712282 -0.61276469 -0.22615739 -0.08915738  0.46016299 -0.65311469 -0.02752935  0.08996956  0.30531097  0.49308243]\n",
      "Node 2:\n",
      "  x [-0.16487666  0.04105045 -0.01458014  0.04529752  0.42459157 -0.60412203  0.13055647  0.13764805  0.29633032  0.39071433]\n",
      "Node 3:\n",
      "  x [-0.03418349 -0.27205432 -0.26004528 -0.14080719  0.21878818 -0.51484094 -0.02752153  0.30287523  0.54348138  0.44594498]\n",
      "Node 4:\n",
      "  x [-0.0570535  -0.29944952 -0.27701554  0.28553805  0.2666139  -0.53738026  0.11731259  0.68169612  0.35534438  0.44016973]\n",
      "Node 5:\n",
      "  x [ 0.01863543 -0.20670528 -0.28652516 -0.03612443  0.26639766 -0.45263951  0.19732264  0.41410293  0.38650289  0.45014487]\n",
      "Node 6:\n",
      "  x [-0.18936785  0.04308614 -0.07898234 -0.00796519  0.32889441 -0.47519744  0.26286999  0.57228709  0.68563219  0.12939756]\n",
      "Node 7:\n",
      "  x [-0.15645225 -0.25574082 -0.15371909  0.10040179  0.32351306 -0.69226112  0.04055426  0.40433945  0.3745141   0.45589338]\n",
      "Node 8:\n",
      "  x [ 0.03211502 -0.28758238 -0.1845991   0.0305872   0.30857288 -0.50723567  0.00627196  0.33058891  0.33684959  0.52280612]\n",
      "Node 9:\n",
      "  x [ 0.13993065 -0.21152357 -0.22114066 -0.05560236  0.3347094  -0.4827472   0.01202981  0.29923677  0.24623348  0.4842382 ]\n"
     ]
    }
   ],
   "source": [
    "gvx[:PrintSolution]()"
   ]
  },
  {
   "cell_type": "code",
   "execution_count": 9,
   "metadata": {
    "collapsed": true
   },
   "outputs": [],
   "source": [
    "gvx[:Solve](UseADMM=false)"
   ]
  },
  {
   "cell_type": "code",
   "execution_count": 11,
   "metadata": {
    "collapsed": false
   },
   "outputs": [
    {
     "name": "stdout",
     "output_type": "stream",
     "text": [
      "Status: optimal\n",
      "Total Objective: 57.135012\n",
      "Node 0:\n",
      "  x [ 0.29625344 -0.27553627 -0.26165741 -0.23564755  0.42884901 -0.89699685  0.41481629  0.09585558  0.39029586  0.32635133]\n",
      "Node 1:\n",
      "  x [ 0.29014128 -0.62653188 -0.23544224 -0.09053003  0.47580373 -0.67995861 -0.02468094  0.10288205  0.32208228  0.51312298]\n",
      "Node 2:\n",
      "  x [-0.16510383  0.03333938 -0.02225088  0.0445439   0.44048596 -0.6309419   0.13775923  0.151717    0.31419608  0.40774836]\n",
      "Node 3:\n",
      "  x [-0.03207381 -0.28351252 -0.26897479 -0.1426932   0.23373868 -0.54096335 -0.02275894  0.31593471  0.5610455   0.46414995]\n",
      "Node 4:\n",
      "  x [-0.05718563 -0.30948962 -0.28578127  0.2870832   0.28122733 -0.562517    0.12268358  0.69912136  0.37269646  0.45815137]\n",
      "Node 5:\n",
      "  x [ 0.01908112 -0.21567077 -0.29487512 -0.03661693  0.28119362 -0.47827873  0.20367474  0.42881449  0.40398699  0.46732561]\n",
      "Node 6:\n",
      "  x [-0.19091606  0.03527435 -0.08681512 -0.00756938  0.34392577 -0.50092702  0.26970618  0.58910844  0.7048484   0.14575171]\n",
      "Node 7:\n",
      "  x [-0.15597424 -0.26599595 -0.16198735  0.10045783  0.33834682 -0.71748504  0.04519513  0.41920016  0.39161462  0.47369021]\n",
      "Node 8:\n",
      "  x [ 0.03493532 -0.30003893 -0.19399007  0.02953526  0.32339445 -0.5331675   0.0105294   0.34406631  0.35323153  0.54192252]\n",
      "Node 9:\n",
      "  x [ 0.14160979 -0.22283527 -0.22982588 -0.05587915  0.34971184 -0.50823824  0.01606382  0.31316165  0.2623421   0.50302038]\n"
     ]
    }
   ],
   "source": [
    "gvx[:PrintSolution]()"
   ]
  },
  {
   "cell_type": "code",
   "execution_count": 12,
   "metadata": {
    "collapsed": false
   },
   "outputs": [
    {
     "name": "stdout",
     "output_type": "stream",
     "text": [
      "Solution at Node 1 is [0.2901412758162775,-0.626531884648983,-0.2354422361912734,-0.09053002686417683,0.47580372677031607,-0.6799586099055238,-0.024680943747762363,0.10288204891173991,0.32208228390099153,0.5131229786262361]\n"
     ]
    }
   ],
   "source": [
    "node1val = gvx[:GetNodeValue](1,\"x\")\n",
    "println(\"Solution at Node 1 is $node1val\")"
   ]
  },
  {
   "cell_type": "markdown",
   "metadata": {},
   "source": [
    "### notice some subtle changes from the python code For example:\n",
    "`gvx.solve(UseADMM=False)` becomes `gvx[:Solve](UseADMM=false)`\n",
    "\n",
    "`x = Variable(n,name='x')` becomes `x = cvxpy.Variable(n, name=\"x\")`"
   ]
  },
  {
   "cell_type": "markdown",
   "metadata": {},
   "source": [
    "### Example 3"
   ]
  },
  {
   "cell_type": "code",
   "execution_count": 14,
   "metadata": {
    "collapsed": true
   },
   "outputs": [],
   "source": [
    "# most of these have already been added - but for the sake of making examples independent from each other\n",
    "using PyCall\n",
    "@pyimport cvxpy.expressions as cvxpyexpressions\n",
    "@pyimport numpy\n",
    "@pyimport cvxpy\n",
    "@pyimport snapvx"
   ]
  },
  {
   "cell_type": "code",
   "execution_count": 15,
   "metadata": {
    "collapsed": false
   },
   "outputs": [
    {
     "data": {
      "text/plain": [
       "node_obj (generic function with 1 method)"
      ]
     },
     "execution_count": 15,
     "metadata": {},
     "output_type": "execute_result"
    }
   ],
   "source": [
    "function node_obj(data)\n",
    "    x = cvxpy.Variable(1,name=\"x\")\n",
    "    f = float(data[1])\n",
    "    ex = cvxpyexpressions.Expression[:__sub__](x,f)\n",
    "    return snapvx.norm(ex)\n",
    "end"
   ]
  },
  {
   "cell_type": "code",
   "execution_count": 17,
   "metadata": {
    "collapsed": false
   },
   "outputs": [
    {
     "data": {
      "text/plain": [
       "laplace_reg (generic function with 1 method)"
      ]
     },
     "execution_count": 17,
     "metadata": {},
     "output_type": "execute_result"
    }
   ],
   "source": [
    "function laplace_reg(src,dst,data)\n",
    "    e1 = src[\"x\"]\n",
    "    e2 = dst[\"x\"]\n",
    "    ex = cvxpyexpressions.Expression[:__sub__](e1,e2)\n",
    "    return(snapvx.sum_squares(ex))\n",
    "end"
   ]
  },
  {
   "cell_type": "code",
   "execution_count": 18,
   "metadata": {
    "collapsed": false
   },
   "outputs": [
    {
     "data": {
      "text/plain": [
       "PyObject <snapvx.TGraphVX; proxy of <Swig Object of type 'TUNGraph *' at 0x31f8c3300> >"
      ]
     },
     "execution_count": 18,
     "metadata": {},
     "output_type": "execute_result"
    }
   ],
   "source": [
    "gvx = snapvx.LoadEdgeList(\"BulkLoadEdges.edges\")"
   ]
  },
  {
   "cell_type": "code",
   "execution_count": 19,
   "metadata": {
    "collapsed": true
   },
   "outputs": [],
   "source": [
    "gvx[:AddNodeObjectives](\"BulkLoadData.csv\", node_obj)"
   ]
  },
  {
   "cell_type": "code",
   "execution_count": 20,
   "metadata": {
    "collapsed": true
   },
   "outputs": [],
   "source": [
    "gvx[:AddEdgeObjectives](laplace_reg)"
   ]
  },
  {
   "cell_type": "code",
   "execution_count": 21,
   "metadata": {
    "collapsed": true
   },
   "outputs": [],
   "source": [
    "gvx[:Solve]()"
   ]
  },
  {
   "cell_type": "code",
   "execution_count": 22,
   "metadata": {
    "collapsed": false
   },
   "outputs": [
    {
     "name": "stdout",
     "output_type": "stream",
     "text": [
      "Status: Optimal\n",
      "Total Objective: 2.750145\n",
      "Node 1:\n",
      "  x [ 0.34398022]\n",
      "Node 2:\n",
      "  x [ 0.85601343]\n"
     ]
    }
   ],
   "source": [
    "gvx[:PrintSolution]()"
   ]
  },
  {
   "cell_type": "markdown",
   "metadata": {},
   "source": [
    "## Making the wrapped python code somewhat more friendly\n",
    "In these three examples, we saw some lines of code becoming a little ugly to read. For example, the line `ex = cvxpyexpressions.Expression[:__sub__](e1,e2)` is simple an `e1-e2` but since subtraction is not defined on cvxpy expressions we had to write the above line. \n",
    "\n",
    "This doesn't need to be the case. Let's look at the following example"
   ]
  },
  {
   "cell_type": "code",
   "execution_count": 40,
   "metadata": {
    "collapsed": false
   },
   "outputs": [
    {
     "data": {
      "text/plain": [
       "PyObject Variable(1, 1)"
      ]
     },
     "execution_count": 40,
     "metadata": {},
     "output_type": "execute_result"
    }
   ],
   "source": [
    "var1 = cvxpy.Variable(1, name=\"var1\") #our first variable\n",
    "var2 = cvxpy.Variable(1, name=\"var2\") #our first variable"
   ]
  },
  {
   "cell_type": "code",
   "execution_count": 41,
   "metadata": {
    "collapsed": false
   },
   "outputs": [
    {
     "data": {
      "text/plain": [
       "PyCall.PyObject"
      ]
     },
     "execution_count": 41,
     "metadata": {},
     "output_type": "execute_result"
    }
   ],
   "source": [
    "exp1 = cvxpyexpressions.Expression[:__sub__](var1,var2) #our first expression\n",
    "typeof(exp1)"
   ]
  },
  {
   "cell_type": "code",
   "execution_count": 31,
   "metadata": {
    "collapsed": false
   },
   "outputs": [
    {
     "name": "stdout",
     "output_type": "stream",
     "text": [
      "typeof(var1) = PyCall.PyObject\n"
     ]
    },
    {
     "ename": "LoadError",
     "evalue": "LoadError: MethodError: `-` has no method matching -(::PyCall.PyObject, ::PyCall.PyObject)\nwhile loading In[31], in expression starting on line 2",
     "output_type": "error",
     "traceback": [
      "LoadError: MethodError: `-` has no method matching -(::PyCall.PyObject, ::PyCall.PyObject)\nwhile loading In[31], in expression starting on line 2",
      ""
     ]
    }
   ],
   "source": [
    "@show typeof(var1)\n",
    "var1 - var2"
   ]
  },
  {
   "cell_type": "code",
   "execution_count": 57,
   "metadata": {
    "collapsed": false
   },
   "outputs": [
    {
     "data": {
      "text/plain": [
       "- (generic function with 205 methods)"
      ]
     },
     "execution_count": 57,
     "metadata": {},
     "output_type": "execute_result"
    }
   ],
   "source": [
    "import Base.-\n",
    "function -(var1::PyCall.PyObject,var2::PyCall.PyObject)\n",
    "    cvxpyexpressions.Expression[:__sub__](var1,var2)\n",
    "end"
   ]
  },
  {
   "cell_type": "code",
   "execution_count": 58,
   "metadata": {
    "collapsed": false
   },
   "outputs": [
    {
     "data": {
      "text/plain": [
       "PyObject Expression(AFFINE, UNKNOWN, (1, 1))"
      ]
     },
     "execution_count": 58,
     "metadata": {},
     "output_type": "execute_result"
    }
   ],
   "source": [
    "var1-var2"
   ]
  },
  {
   "cell_type": "markdown",
   "metadata": {},
   "source": [
    "### Let's add more functions and redo the first example\n",
    "Link to example1 [new code](example1_redo.ipynb)"
   ]
  },
  {
   "cell_type": "code",
   "execution_count": null,
   "metadata": {
    "collapsed": true
   },
   "outputs": [],
   "source": []
  }
 ],
 "metadata": {
  "anaconda-cloud": {},
  "kernelspec": {
   "display_name": "Julia 0.4.6",
   "language": "julia",
   "name": "julia-0.4"
  },
  "language_info": {
   "file_extension": ".jl",
   "mimetype": "application/julia",
   "name": "julia",
   "version": "0.4.6"
  }
 },
 "nbformat": 4,
 "nbformat_minor": 0
}
