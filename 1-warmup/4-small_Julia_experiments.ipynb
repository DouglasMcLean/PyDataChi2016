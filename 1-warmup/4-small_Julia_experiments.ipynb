{
 "cells": [
  {
   "cell_type": "markdown",
   "metadata": {},
   "source": [
    "# Some functions from Julia to start with"
   ]
  },
  {
   "cell_type": "code",
   "execution_count": 1,
   "metadata": {
    "collapsed": false
   },
   "outputs": [
    {
     "name": "stdout",
     "output_type": "stream",
     "text": [
      "typeof(a) = Int64\n"
     ]
    },
    {
     "data": {
      "text/plain": [
       "Int64"
      ]
     },
     "execution_count": 1,
     "metadata": {},
     "output_type": "execute_result"
    }
   ],
   "source": [
    "a = 10\n",
    "@show typeof(a)"
   ]
  },
  {
   "cell_type": "code",
   "execution_count": 2,
   "metadata": {
    "collapsed": false
   },
   "outputs": [
    {
     "name": "stdout",
     "output_type": "stream",
     "text": [
      "typeof(b) = Float64\n"
     ]
    },
    {
     "data": {
      "text/plain": [
       "Float64"
      ]
     },
     "execution_count": 2,
     "metadata": {},
     "output_type": "execute_result"
    }
   ],
   "source": [
    "b = 10.2\n",
    "@show typeof(b)"
   ]
  },
  {
   "cell_type": "code",
   "execution_count": 3,
   "metadata": {
    "collapsed": false
   },
   "outputs": [
    {
     "name": "stdout",
     "output_type": "stream",
     "text": [
      "c = 2.100000000000000088817841970012523233891\n",
      "typeof(c) = BigFloat\n",
      "e = 2.1\n",
      "c == e = true\n"
     ]
    },
    {
     "data": {
      "text/plain": [
       "true"
      ]
     },
     "execution_count": 3,
     "metadata": {},
     "output_type": "execute_result"
    }
   ],
   "source": [
    "set_bigfloat_precision(128)\n",
    "c = BigFloat(2.1)\n",
    "d = BigFloat(2.1)\n",
    "e = 2.1\n",
    "@show c\n",
    "@show typeof(c)\n",
    "@show e\n",
    "@show c==e"
   ]
  },
  {
   "cell_type": "code",
   "execution_count": 23,
   "metadata": {
    "collapsed": false
   },
   "outputs": [
    {
     "name": "stdout",
     "output_type": "stream",
     "text": [
      "w = [0,0,0,0,0]\n",
      "typeof(w) = Array{Int64,1}\n"
     ]
    },
    {
     "data": {
      "text/plain": [
       "Array{Int64,1}"
      ]
     },
     "execution_count": 23,
     "metadata": {},
     "output_type": "execute_result"
    }
   ],
   "source": [
    "w = zeros(Int64,5)\n",
    "@show w\n",
    "@show typeof(w)"
   ]
  },
  {
   "cell_type": "code",
   "execution_count": 77,
   "metadata": {
    "collapsed": false
   },
   "outputs": [
    {
     "ename": "LoadError",
     "evalue": "LoadError: DomainError:\nCannot raise an integer x to a negative power -n. \nMake x a float by adding a zero decimal (e.g. 2.0^-n instead of 2^-n), or write 1/x^n, float(x)^-n, or (x//1)^-n.\nwhile loading In[77], in expression starting on line 3",
     "output_type": "error",
     "traceback": [
      "LoadError: DomainError:\nCannot raise an integer x to a negative power -n. \nMake x a float by adding a zero decimal (e.g. 2.0^-n instead of 2^-n), or write 1/x^n, float(x)^-n, or (x//1)^-n.\nwhile loading In[77], in expression starting on line 3",
      "",
      " in power_by_squaring at /Applications/Julia-0.4.6.app/Contents/Resources/julia/lib/julia/sys.dylib",
      " in ^ at /Applications/Julia-0.4.6.app/Contents/Resources/julia/lib/julia/sys.dylib"
     ]
    }
   ],
   "source": [
    "# being careful with types:\n",
    "# this, for example, will generate an error\n",
    "2^-1"
   ]
  },
  {
   "cell_type": "code",
   "execution_count": 4,
   "metadata": {
    "collapsed": false
   },
   "outputs": [
    {
     "data": {
      "text/plain": [
       "12"
      ]
     },
     "execution_count": 4,
     "metadata": {},
     "output_type": "execute_result"
    }
   ],
   "source": [
    "# you can use greek letters\n",
    "λ = 9\n",
    "α = 10\n",
    "β = 2\n",
    "α + β"
   ]
  },
  {
   "cell_type": "code",
   "execution_count": 5,
   "metadata": {
    "collapsed": false
   },
   "outputs": [
    {
     "ename": "LoadError",
     "evalue": "LoadError: InexactError()\nwhile loading In[5], in expression starting on line 3",
     "output_type": "error",
     "traceback": [
      "LoadError: InexactError()\nwhile loading In[5], in expression starting on line 3",
      "",
      " in setindex! at array.jl:314"
     ]
    }
   ],
   "source": [
    "# this will generate an error\n",
    "v = [1,2,3]\n",
    "v[1] = 2.5\n",
    "\n",
    "# >>> v\n",
    "# [1, 2, 3]\n",
    "# >>> v[0] = 2.5\n",
    "# >>> v\n",
    "# [2.5, 2, 3]"
   ]
  },
  {
   "cell_type": "code",
   "execution_count": 78,
   "metadata": {
    "collapsed": false
   },
   "outputs": [
    {
     "data": {
      "text/plain": [
       "3-element Array{Int64,1}:\n",
       " 100\n",
       "   2\n",
       "   3"
      ]
     },
     "execution_count": 78,
     "metadata": {},
     "output_type": "execute_result"
    }
   ],
   "source": [
    "# `=` doesnot create a new instance of the variable\n",
    "v1 = [1,2,3]\n",
    "v2 = v1\n",
    "v2[1] = 100\n",
    "v1"
   ]
  },
  {
   "cell_type": "code",
   "execution_count": 8,
   "metadata": {
    "collapsed": false
   },
   "outputs": [
    {
     "name": "stdout",
     "output_type": "stream",
     "text": [
      "first for loop output:\n",
      "this\n",
      "is\n",
      "a\n",
      "workshop\n",
      "second for loop output:\n",
      "this\n",
      "is\n",
      "a\n",
      "workshop\n"
     ]
    }
   ],
   "source": [
    "# for loops\n",
    "input_vals = [\"this\",\"is\",\"a\",\"workshop\"]\n",
    "println(\"first for loop output:\")\n",
    "for x in input_vals\n",
    "    println(\"$x\")\n",
    "end\n",
    "println(\"second for loop output:\")\n",
    "for i = 1:length(input_vals)\n",
    "    println(input_vals[i])\n",
    "end"
   ]
  },
  {
   "cell_type": "code",
   "execution_count": 53,
   "metadata": {
    "collapsed": false
   },
   "outputs": [
    {
     "name": "stdout",
     "output_type": "stream",
     "text": [
      "You win\n"
     ]
    }
   ],
   "source": [
    "# if statements\n",
    "my_rand = rand()\n",
    "if my_rand > 0.3\n",
    "    println(\"I win\")\n",
    "else\n",
    "    println(\"You win\")\n",
    "end"
   ]
  },
  {
   "cell_type": "code",
   "execution_count": 76,
   "metadata": {
    "collapsed": false
   },
   "outputs": [
    {
     "ename": "LoadError",
     "evalue": "LoadError: TypeError: non-boolean (Int64) used in boolean context\nwhile loading In[76], in expression starting on line 3",
     "output_type": "error",
     "traceback": [
      "LoadError: TypeError: non-boolean (Int64) used in boolean context\nwhile loading In[76], in expression starting on line 3",
      ""
     ]
    }
   ],
   "source": [
    "# this will generate an error\n",
    "h = 1\n",
    "if 1\n",
    "    h += 1\n",
    "end"
   ]
  },
  {
   "cell_type": "code",
   "execution_count": 57,
   "metadata": {
    "collapsed": false
   },
   "outputs": [
    {
     "name": "stdout",
     "output_type": "stream",
     "text": [
      "I won 9 times\n"
     ]
    }
   ],
   "source": [
    "# while loops\n",
    "# count how many times I win in a row\n",
    "my_rand = rand()\n",
    "ref = 0.3\n",
    "win_in_a_row = 0\n",
    "while my_rand > ref\n",
    "    my_rand = rand()\n",
    "    win_in_a_row += 1\n",
    "end\n",
    "println(\"I won $win_in_a_row times\")\n"
   ]
  },
  {
   "cell_type": "code",
   "execution_count": 60,
   "metadata": {
    "collapsed": false
   },
   "outputs": [
    {
     "data": {
      "text/plain": [
       "\"This is a string. This is a string as well\""
      ]
     },
     "execution_count": 60,
     "metadata": {},
     "output_type": "execute_result"
    }
   ],
   "source": [
    "# string concatenation\n",
    "my_first_string = \"This is a string.\"\n",
    "my_second_string = \"This is a string as well\"\n",
    "my_first_string*\" \"*my_second_string"
   ]
  },
  {
   "cell_type": "markdown",
   "metadata": {},
   "source": [
    "# Packages"
   ]
  },
  {
   "cell_type": "code",
   "execution_count": 61,
   "metadata": {
    "collapsed": false
   },
   "outputs": [
    {
     "name": "stdout",
     "output_type": "stream",
     "text": [
      "11 required packages:\n",
      " - Clustering                    0.6.0\n",
      " - Convex                        0.3.0\n",
      " - DataFrames                    0.7.8\n",
      " - IJulia                        1.2.0\n",
      " - NearestNeighbors              0.0.4\n",
      " - Plots                         0.8.2\n",
      " - PyCall                        1.7.0\n",
      " - PyPlot                        2.2.1\n",
      " - RDatasets                     0.1.3\n",
      " - Requests                      0.3.9\n",
      " - SCS                           0.2.5\n",
      "36 additional packages:\n",
      " - BinDeps                       0.4.2\n",
      " - BufferedStreams               0.1.6\n",
      " - Codecs                        0.2.0\n",
      " - ColorTypes                    0.2.5\n",
      " - Colors                        0.6.6\n",
      " - Compat                        0.8.6\n",
      " - Conda                         0.2.3\n",
      " - DataArrays                    0.3.8\n",
      " - DataStructures                0.4.5\n",
      " - Distances                     0.3.2\n",
      " - FixedPointNumbers             0.1.4\n",
      " - FixedSizeArrays               0.2.2\n",
      " - GZip                          0.2.20\n",
      " - Homebrew                      0.3.4\n",
      " - HttpCommon                    0.2.6\n",
      " - HttpParser                    0.1.1\n",
      " - Iterators                     0.1.10\n",
      " - JSON                          0.6.0\n",
      " - LaTeXStrings                  0.2.0\n",
      " - Libz                          0.2.0\n",
      " - MacroTools                    0.3.2\n",
      " - MathProgBase                  0.5.2\n",
      " - MbedTLS                       0.2.6\n",
      " - Measures                      0.0.3\n",
      " - Nettle                        0.2.3\n",
      " - PlotUtils                     0.0.4\n",
      " - RecipesBase                   0.0.6\n",
      " - Reexport                      0.0.3\n",
      " - Rmath                         0.1.2\n",
      " - SHA                           0.2.0\n",
      " - Showoff                       0.0.7\n",
      " - SortingAlgorithms             0.1.0\n",
      " - StatsBase                     0.9.0\n",
      " - StatsFuns                     0.3.0\n",
      " - URIParser                     0.1.6\n",
      " - ZMQ                           0.3.4\n"
     ]
    }
   ],
   "source": [
    "Pkg.status() # I just made a fresh Julia installation yesterday, this is a very small list"
   ]
  },
  {
   "cell_type": "code",
   "execution_count": 62,
   "metadata": {
    "collapsed": false
   },
   "outputs": [
    {
     "name": "stderr",
     "output_type": "stream",
     "text": [
      "INFO: Updating METADATA...\n",
      "INFO: Updating cache of ColorTypes...\n",
      "INFO: Updating cache of Compat...\n",
      "INFO: Updating cache of SHA...\n",
      "INFO: Updating cache of MathProgBase...\n",
      "INFO: Updating cache of Requests...\n",
      "INFO: Updating cache of Nettle...\n",
      "INFO: Computing changes...\n",
      "INFO: Upgrading ColorTypes: v0.2.5 => v0.2.6\n",
      "INFO: Upgrading Compat: v0.8.6 => v0.8.7\n",
      "INFO: Upgrading MathProgBase: v0.5.2 => v0.5.3\n",
      "INFO: Upgrading MbedTLS: v0.2.6 => v0.3.0\n",
      "INFO: Upgrading Nettle: v0.2.3 => v0.2.4\n",
      "INFO: Upgrading Requests: v0.3.9 => v0.3.10\n",
      "INFO: Upgrading SHA: v0.2.0 => v0.2.1\n",
      "INFO: Building Homebrew\n",
      "INFO: Recompiling stale cache file /Users/hudanassar/.julia/lib/v0.4/SHA.ji for module SHA.\n",
      "INFO: Recompiling stale cache file /Users/hudanassar/.julia/lib/v0.4/Compat.ji for module Compat.\n",
      "INFO: Recompiling stale cache file /Users/hudanassar/.julia/lib/v0.4/Homebrew.ji for module Homebrew.\n",
      "INFO: Recompiling stale cache file /Users/hudanassar/.julia/lib/v0.4/JSON.ji for module JSON.\n",
      "INFO: Recompiling stale cache file /Users/hudanassar/.julia/lib/v0.4/BinDeps.ji for module BinDeps.\n",
      "INFO: Recompiling stale cache file /Users/hudanassar/.julia/lib/v0.4/URIParser.ji for module URIParser.\n"
     ]
    },
    {
     "name": "stdout",
     "output_type": "stream",
     "text": [
      "Updated Homebrew from b630ab3 to 984ed83.\n",
      "Updated 1 tap (homebrew/core).\n",
      "==> New Formulae\n",
      "dscanner\n",
      "==> Updated Formulae\n",
      "abi-compliance-checker\n",
      "asciinema2gif\n",
      "ccextractor\n",
      "datomic\n",
      "exploitdb\n",
      "flatbuffers\n",
      "gammu\n",
      "gdm\n",
      "glide\n",
      "go\n",
      "godep\n",
      "gollum\n",
      "govendor\n",
      "gpm\n",
      "jpegoptim\n",
      "kitchen-sync\n",
      "libmill\n",
      "m-cli\n",
      "mg\n",
      "mpv\n",
      "node\n",
      "planck\n",
      "qscintilla2\n",
      "s-search\n",
      "tippecanoe\n",
      "==> Deleted Formulae\n",
      "fugu\n",
      "Uninstalling mbedtls... (122 files, 2.7M)\n",
      "==> Installing mbedtls from staticfloat/juliatranslated\n",
      "==> Downloading https://juliabottles.s3.amazonaws.com/mbedtls-2.1.2.yosemite.bottle.tar.gz\n",
      "Already downloaded: /Users/hudanassar/Library/Caches/Homebrew.jl/mbedtls-2.1.2.yosemite.bottle.tar.gz\n",
      "==> Pouring mbedtls-2.1.2.yosemite.bottle.tar.gz\n",
      "🍺  /Users/hudanassar/.julia/v0.4/Homebrew/deps/usr/Cellar/mbedtls/2.1.2: 122 files, 2.7M\n"
     ]
    },
    {
     "name": "stderr",
     "output_type": "stream",
     "text": [
      "Warning: Already linked: /Users/hudanassar/.julia/v0.4/Homebrew/deps/usr/Cellar/mbedtls/2.1.2\n",
      "INFO: Building MbedTLS\n",
      "INFO: Building Nettle\n",
      "INFO: Building HttpParser\n"
     ]
    }
   ],
   "source": [
    "Pkg.update()"
   ]
  },
  {
   "cell_type": "code",
   "execution_count": 65,
   "metadata": {
    "collapsed": false
   },
   "outputs": [],
   "source": [
    "# Pkg.rm(pkgname) to remove a package named pkgname\n",
    "# Pkg.add(pkgname) to add a package named pkgname"
   ]
  },
  {
   "cell_type": "markdown",
   "metadata": {},
   "source": [
    "You cna find a full list of Julia packages here [http://pkg.julialang.org/]"
   ]
  },
  {
   "cell_type": "markdown",
   "metadata": {},
   "source": [
    "# Sparse matrices"
   ]
  },
  {
   "cell_type": "code",
   "execution_count": 73,
   "metadata": {
    "collapsed": false
   },
   "outputs": [
    {
     "data": {
      "text/plain": [
       "5x5 sparse matrix with 8 Float64 entries:\n",
       "\t[1, 1]  =  0.570302\n",
       "\t[5, 1]  =  0.926134\n",
       "\t[4, 2]  =  0.102554\n",
       "\t[5, 3]  =  0.63084\n",
       "\t[4, 4]  =  0.388503\n",
       "\t[5, 4]  =  0.120528\n",
       "\t[1, 5]  =  0.501911\n",
       "\t[2, 5]  =  0.809905"
      ]
     },
     "execution_count": 73,
     "metadata": {},
     "output_type": "execute_result"
    }
   ],
   "source": [
    "A = sprand(5,5,0.2)"
   ]
  },
  {
   "cell_type": "code",
   "execution_count": 74,
   "metadata": {
    "collapsed": false
   },
   "outputs": [
    {
     "name": "stdout",
     "output_type": "stream",
     "text": [
      "A.colptr = [1,3,4,5,7,9]\n",
      "A.m = 5\n",
      "A.n = 5\n",
      "A.nzval = [0.5703022211215332,0.9261343291682966,0.10255402909750133,0.6308395418830592,0.3885026928095592,0.12052801683713055,0.5019111492843344,0.8099053672635914]\n",
      "A.rowval = [1,5,4,5,4,5,1,2]\n"
     ]
    },
    {
     "data": {
      "text/plain": [
       "5x5 Array{Float64,2}:\n",
       " 0.570302  0.0       0.0      0.0       0.501911\n",
       " 0.0       0.0       0.0      0.0       0.809905\n",
       " 0.0       0.0       0.0      0.0       0.0     \n",
       " 0.0       0.102554  0.0      0.388503  0.0     \n",
       " 0.926134  0.0       0.63084  0.120528  0.0     "
      ]
     },
     "execution_count": 74,
     "metadata": {},
     "output_type": "execute_result"
    }
   ],
   "source": [
    "@show A.colptr\n",
    "@show A.m\n",
    "@show A.n\n",
    "@show A.nzval\n",
    "@show A.rowval\n",
    "full(A)"
   ]
  },
  {
   "cell_type": "code",
   "execution_count": null,
   "metadata": {
    "collapsed": true
   },
   "outputs": [],
   "source": []
  }
 ],
 "metadata": {
  "anaconda-cloud": {},
  "kernelspec": {
   "display_name": "Julia 0.4.6",
   "language": "julia",
   "name": "julia-0.4"
  },
  "language_info": {
   "file_extension": ".jl",
   "mimetype": "application/julia",
   "name": "julia",
   "version": "0.4.6"
  }
 },
 "nbformat": 4,
 "nbformat_minor": 0
}
