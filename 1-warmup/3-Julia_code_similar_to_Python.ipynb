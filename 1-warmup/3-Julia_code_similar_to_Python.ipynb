{
 "cells": [
  {
   "cell_type": "markdown",
   "metadata": {},
   "source": [
    "### Somewhat similar to Python's syntax but output could be different"
   ]
  },
  {
   "cell_type": "code",
   "execution_count": 6,
   "metadata": {
    "collapsed": false
   },
   "outputs": [
    {
     "name": "stdout",
     "output_type": "stream",
     "text": [
      "a = \"this is a string\" = \"this is a string\"\n",
      "b = \"this is a string with quotations \\\" inside it \" = \"this is a string with quotations \\\" inside it \"\n"
     ]
    },
    {
     "data": {
      "text/plain": [
       "\"this is a string with quotations \\\" inside it \""
      ]
     },
     "execution_count": 6,
     "metadata": {},
     "output_type": "execute_result"
    }
   ],
   "source": [
    "@show a = \"this is a string\"\n",
    "@show b = \"\"\"this is a string with quotations \" inside it \"\"\""
   ]
  },
  {
   "cell_type": "code",
   "execution_count": 8,
   "metadata": {
    "collapsed": false
   },
   "outputs": [
    {
     "name": "stdout",
     "output_type": "stream",
     "text": [
      "t1 = 1 & 1 = 1\n",
      "t2 = 0 & 1 = 0\n"
     ]
    },
    {
     "data": {
      "text/plain": [
       "0"
      ]
     },
     "execution_count": 8,
     "metadata": {},
     "output_type": "execute_result"
    }
   ],
   "source": [
    "@show t1 = 1&1\n",
    "@show t2 = 0&1"
   ]
  },
  {
   "cell_type": "code",
   "execution_count": 23,
   "metadata": {
    "collapsed": false
   },
   "outputs": [
    {
     "name": "stdout",
     "output_type": "stream",
     "text": [
      "m % 3 = 2\n",
      "m / 2 = 4.0\n",
      "div(m,2) = 4\n"
     ]
    },
    {
     "data": {
      "text/plain": [
       "4"
      ]
     },
     "execution_count": 23,
     "metadata": {},
     "output_type": "execute_result"
    }
   ],
   "source": [
    "v = [1,2,3]\n",
    "m = 4+4\n",
    "@show m%3\n",
    "@show m/2\n",
    "@show div(m,2)"
   ]
  },
  {
   "cell_type": "code",
   "execution_count": 25,
   "metadata": {
    "collapsed": false
   },
   "outputs": [
    {
     "name": "stdout",
     "output_type": "stream",
     "text": [
      "entered if statement\n"
     ]
    }
   ],
   "source": [
    "a = 10\n",
    "if a > 1\n",
    "    println(\"entered if statement\")\n",
    "end"
   ]
  },
  {
   "cell_type": "code",
   "execution_count": 26,
   "metadata": {
    "collapsed": false
   },
   "outputs": [
    {
     "name": "stdout",
     "output_type": "stream",
     "text": [
      "internalval = 10\n"
     ]
    },
    {
     "ename": "LoadError",
     "evalue": "LoadError: UndefVarError: realinternalval not defined\nwhile loading In[26], in expression starting on line 127",
     "output_type": "error",
     "traceback": [
      "LoadError: UndefVarError: realinternalval not defined\nwhile loading In[26], in expression starting on line 127",
      ""
     ]
    }
   ],
   "source": [
    "# scope is real\n",
    "internalval = 100\n",
    "for i = 1:a\n",
    "    internalval = 10\n",
    "end\n",
    "@show internalval\n",
    "for i = 1:a\n",
    "    realinternalval = 10\n",
    "end\n",
    "@show realinternalval"
   ]
  },
  {
   "cell_type": "code",
   "execution_count": 29,
   "metadata": {
    "collapsed": false
   },
   "outputs": [
    {
     "name": "stdout",
     "output_type": "stream",
     "text": [
      "vec = [1;[2;3]] = [1,2,3]\n",
      "ls = Any[1,[2,3]] = Any[1,[2,3]]\n"
     ]
    },
    {
     "data": {
      "text/plain": [
       "2-element Array{Any,1}:\n",
       " 1     \n",
       "  [2,3]"
      ]
     },
     "execution_count": 29,
     "metadata": {},
     "output_type": "execute_result"
    }
   ],
   "source": [
    "@show vec = [1; [2; 3]]\n",
    "\n",
    "# the following is run on Python 2.7\n",
    "# >>> [1, [2, 3]]\n",
    "# [1, [2, 3]]\n",
    "\n",
    "# to get a similar behavior:\n",
    "@show ls = Any[1, [2,3]]"
   ]
  },
  {
   "cell_type": "code",
   "execution_count": 32,
   "metadata": {
    "collapsed": false
   },
   "outputs": [
    {
     "name": "stdout",
     "output_type": "stream",
     "text": [
      "vec[1] = 1\n",
      "vec[end] = 3\n",
      "vec[end - 1] = 2\n"
     ]
    },
    {
     "data": {
      "text/plain": [
       "2"
      ]
     },
     "execution_count": 32,
     "metadata": {},
     "output_type": "execute_result"
    }
   ],
   "source": [
    "# indexing starts from 1\n",
    "@show vec[1]\n",
    "\n",
    "# negative indexing is not defined, use `end` keyword instead\n",
    "@show vec[end]\n",
    "@show vec[end-1]"
   ]
  },
  {
   "cell_type": "code",
   "execution_count": 34,
   "metadata": {
    "collapsed": false
   },
   "outputs": [
    {
     "name": "stdout",
     "output_type": "stream",
     "text": [
      "A = circle(10,10,2) = circle(10.0,10.0,2.0)\n",
      "get_area(A) = 12.566370614359172\n"
     ]
    },
    {
     "data": {
      "text/plain": [
       "12.566370614359172"
      ]
     },
     "execution_count": 34,
     "metadata": {},
     "output_type": "execute_result"
    }
   ],
   "source": [
    "# types and functions\n",
    "type circle\n",
    "    x::Float64\n",
    "    y::Float64\n",
    "    r::Float64\n",
    "end\n",
    "\n",
    "function get_area(A::circle)\n",
    "    pi*A.r^2\n",
    "end\n",
    "\n",
    "@show A = circle(10,10,2)\n",
    "@show get_area(A)"
   ]
  },
  {
   "cell_type": "code",
   "execution_count": 35,
   "metadata": {
    "collapsed": false
   },
   "outputs": [
    {
     "data": {
      "text/plain": [
       "mymodule"
      ]
     },
     "execution_count": 35,
     "metadata": {},
     "output_type": "execute_result"
    }
   ],
   "source": [
    "# module, similar to a module in Python\n",
    "module mymodule\n",
    "    export Person,getname,getage\n",
    "\n",
    "    type Person\n",
    "        name::ASCIIString\n",
    "        age::Int64\n",
    "    end\n",
    "    \n",
    "    getname(P::Person) = P.name\n",
    "    getage(P::Person) = P.age\n",
    "end"
   ]
  },
  {
   "cell_type": "code",
   "execution_count": 37,
   "metadata": {
    "collapsed": false
   },
   "outputs": [
    {
     "name": "stdout",
     "output_type": "stream",
     "text": [
      "P = mymodule.Person(\"Tia\",9) = mymodule.Person(\"Tia\",9)\n",
      "mymodule.getage(P) = 9\n"
     ]
    },
    {
     "data": {
      "text/plain": [
       "9"
      ]
     },
     "execution_count": 37,
     "metadata": {},
     "output_type": "execute_result"
    }
   ],
   "source": [
    "@show P = mymodule.Person(\"Tia\",9)\n",
    "@show mymodule.getage(P)"
   ]
  },
  {
   "cell_type": "code",
   "execution_count": null,
   "metadata": {
    "collapsed": true
   },
   "outputs": [],
   "source": []
  }
 ],
 "metadata": {
  "anaconda-cloud": {},
  "kernelspec": {
   "display_name": "Julia 0.4.6",
   "language": "julia",
   "name": "julia-0.4"
  },
  "language_info": {
   "file_extension": ".jl",
   "mimetype": "application/julia",
   "name": "julia",
   "version": "0.4.6"
  }
 },
 "nbformat": 4,
 "nbformat_minor": 0
}
