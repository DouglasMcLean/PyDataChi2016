{
 "cells": [
  {
   "cell_type": "markdown",
   "metadata": {},
   "source": [
    "### From Julia's website:\n",
    "> Julia is a high-level, high-performance dynamic programming language for technical computing, with <font color='red'>syntax that is familiar to users</font> of other technical computing environments. It provides a sophisticated compiler, distributed parallel execution, numerical accuracy, and an extensive mathematical function library"
   ]
  },
  {
   "cell_type": "code",
   "execution_count": 1,
   "metadata": {
    "collapsed": false
   },
   "outputs": [
    {
     "data": {
      "text/plain": [
       "2"
      ]
     },
     "execution_count": 1,
     "metadata": {},
     "output_type": "execute_result"
    }
   ],
   "source": [
    "a = 1+1"
   ]
  },
  {
   "cell_type": "code",
   "execution_count": 2,
   "metadata": {
    "collapsed": false
   },
   "outputs": [
    {
     "data": {
      "text/plain": [
       "\"this is a string\""
      ]
     },
     "execution_count": 2,
     "metadata": {},
     "output_type": "execute_result"
    }
   ],
   "source": [
    "str = \"this is a string\""
   ]
  },
  {
   "cell_type": "code",
   "execution_count": 3,
   "metadata": {
    "collapsed": false
   },
   "outputs": [
    {
     "name": "stdout",
     "output_type": "stream",
     "text": [
      "the value of a is 2\n"
     ]
    }
   ],
   "source": [
    "println(\"the value of a is $a\")"
   ]
  },
  {
   "cell_type": "markdown",
   "metadata": {},
   "source": [
    "> Julia is a high-level, high-performance dynamic programming language for technical computing, with syntax that is familiar to users of other technical computing environments. It provides a <font color='red'>sophisticated compiler</font>, distributed parallel execution, numerical accuracy, and an extensive mathematical function library"
   ]
  },
  {
   "cell_type": "code",
   "execution_count": 19,
   "metadata": {
    "collapsed": false
   },
   "outputs": [
    {
     "name": "stdout",
     "output_type": "stream",
     "text": [
      "\n",
      "define i64 @julia_my_square_22183(i64) {\n",
      "top:\n",
      "  %1 = mul i64 %0, %0\n",
      "  ret i64 %1\n",
      "}\n",
      "\n",
      "define double @julia_my_square_22184(double) {\n",
      "top:\n",
      "  %1 = fmul double %0, %0\n",
      "  ret double %1\n",
      "}\n",
      "\n",
      "define i64 @julia_my_other_square_22182(i64) {\n",
      "top:\n",
      "  %1 = mul i64 %0, %0\n",
      "  ret i64 %1\n",
      "}\n",
      "\n",
      "define double @julia_my_other_square_22151(double) {\n",
      "top:\n",
      "  %1 = fmul double %0, %0\n",
      "  ret double %1\n",
      "}\n",
      "  0.000003 seconds (4 allocations: 160 bytes)\n",
      "  0.001339 seconds (4 allocations: 160 bytes)\n"
     ]
    },
    {
     "name": "stderr",
     "output_type": "stream",
     "text": [
      "WARNING: Returned code may not match what actually runs.\n"
     ]
    },
    {
     "data": {
      "text/plain": [
       "1"
      ]
     },
     "execution_count": 19,
     "metadata": {},
     "output_type": "execute_result"
    }
   ],
   "source": [
    "my_square(x) = x^2\n",
    "@code_llvm(my_square(1))\n",
    "@code_llvm(my_square(1.0))\n",
    "\n",
    "my_other_square{T<:Real}(x::T) = x^2\n",
    "\n",
    "@code_llvm(my_other_square(1))\n",
    "@code_llvm(my_other_square(1.0))\n",
    "\n",
    "@time my_other_square(1)\n",
    "@time my_square(1)"
   ]
  },
  {
   "cell_type": "markdown",
   "metadata": {},
   "source": [
    "### Notes:\n",
    "* type inference that resulted in calling different functions for different types of inputs. \n",
    "    - `mul` and `fmul` in the case above\n",
    "* arbitrary code isn't necessairly fast in Julia. If speed of code is a concern, Julia code has to be written with performance in mind"
   ]
  },
  {
   "cell_type": "markdown",
   "metadata": {},
   "source": [
    "> Julia is a high-level, high-performance dynamic programming language for technical computing, with syntax that is familiar to users of other technical computing environments. It provides a sophisticated compiler, <font color='red'> distributed parallel execution</font>, numerical accuracy, and an extensive mathematical function library"
   ]
  },
  {
   "cell_type": "code",
   "execution_count": null,
   "metadata": {
    "collapsed": true
   },
   "outputs": [],
   "source": [
    "addprocs()"
   ]
  },
  {
   "cell_type": "code",
   "execution_count": 39,
   "metadata": {
    "collapsed": false
   },
   "outputs": [
    {
     "data": {
      "text/plain": [
       "100-element Array{Any,1}:\n",
       "     1\n",
       "     4\n",
       "     9\n",
       "    16\n",
       "    25\n",
       "    36\n",
       "    49\n",
       "    64\n",
       "    81\n",
       "   100\n",
       "   121\n",
       "   144\n",
       "   169\n",
       "     ⋮\n",
       "  7921\n",
       "  8100\n",
       "  8281\n",
       "  8464\n",
       "  8649\n",
       "  8836\n",
       "  9025\n",
       "  9216\n",
       "  9409\n",
       "  9604\n",
       "  9801\n",
       " 10000"
      ]
     },
     "execution_count": 39,
     "metadata": {},
     "output_type": "execute_result"
    }
   ],
   "source": [
    "v = collect(1:100)\n",
    "@parallel (+) for i=1:100\n",
    "    v[i]\n",
    "end\n",
    "\n",
    "@everywhere my_other_square{T<:Real}(x::T) = x^2\n",
    "pmap(i->my_other_square(i),v)"
   ]
  },
  {
   "cell_type": "markdown",
   "metadata": {},
   "source": [
    "> Julia is a high-level, high-performance dynamic programming language for technical computing, with syntax that is familiar to users of other technical computing environments. It provides a sophisticated compiler, distributed parallel execution, <font color='red'>numerical accuracy</font>, and an extensive mathematical function library"
   ]
  },
  {
   "cell_type": "code",
   "execution_count": 47,
   "metadata": {
    "collapsed": false
   },
   "outputs": [
    {
     "name": "stdout",
     "output_type": "stream",
     "text": [
      "x - y = 2.15e12\n",
      "x - y = 2.149999999999999987499999999999999400978299701758800210882327519357204437255859e+12\n"
     ]
    },
    {
     "data": {
      "text/plain": [
       "2.149999999999999987499999999999999400978299701758800210882327519357204437255859e+12"
      ]
     },
     "execution_count": 47,
     "metadata": {},
     "output_type": "execute_result"
    }
   ],
   "source": [
    "x = 2.15*10^12\n",
    "y = 1.25*10.0^-5\n",
    "@show x-y\n",
    "x = BigFloat(2.15*10^12)\n",
    "y = BigFloat(1.25*10.0^-5)\n",
    "@show x-y"
   ]
  },
  {
   "cell_type": "markdown",
   "metadata": {},
   "source": [
    "### Notes\n",
    "* example from [here](http://citeseerx.ist.psu.edu/viewdoc/download?doi=10.1.1.22.6768&rep=rep1&type=pdf) page 160\n",
    "* real answer is `r = 2.1499999999999999875 × 10^12`"
   ]
  },
  {
   "cell_type": "code",
   "execution_count": 67,
   "metadata": {
    "collapsed": false
   },
   "outputs": [
    {
     "data": {
      "text/plain": [
       "f (generic function with 1 method)"
      ]
     },
     "execution_count": 67,
     "metadata": {},
     "output_type": "execute_result"
    }
   ],
   "source": [
    "const C = 2\n",
    "f(i) = i + C + C"
   ]
  },
  {
   "cell_type": "code",
   "execution_count": 68,
   "metadata": {
    "collapsed": false
   },
   "outputs": [
    {
     "name": "stdout",
     "output_type": "stream",
     "text": [
      "\n",
      "define double @julia_f_22918(double) {\n",
      "top:\n",
      "  %1 = fadd double %0, 2.000000e+00\n",
      "  %2 = fadd double %1, 2.000000e+00\n",
      "  ret double %2\n",
      "}\n",
      "\n",
      "define i64 @julia_f_22919(i64) {\n",
      "top:\n",
      "  %1 = add i64 %0, 4\n",
      "  ret i64 %1\n",
      "}\n"
     ]
    }
   ],
   "source": [
    "code_llvm(f,(Float64,))\n",
    "code_llvm(f,(Int64,))"
   ]
  },
  {
   "cell_type": "code",
   "execution_count": 70,
   "metadata": {
    "collapsed": false
   },
   "outputs": [
    {
     "name": "stdout",
     "output_type": "stream",
     "text": [
      "\n",
      "define double @julia_g_22922(double) {\n",
      "top:\n",
      "  %1 = fadd fast double %0, 4.000000e+00\n",
      "  ret double %1\n",
      "}\n",
      "\n",
      "define i64 @julia_g_22923(i64) {\n",
      "top:\n",
      "  %1 = add i64 %0, 4\n",
      "  ret i64 %1\n",
      "}\n"
     ]
    }
   ],
   "source": [
    "g(i) = @fastmath i + C + C\n",
    "code_llvm(g,(Float64,))\n",
    "code_llvm(g,(Int64,))"
   ]
  },
  {
   "cell_type": "code",
   "execution_count": 71,
   "metadata": {
    "collapsed": false
   },
   "outputs": [
    {
     "name": "stdout",
     "output_type": "stream",
     "text": [
      "\n",
      "define double @julia_h_22924(double) {\n",
      "top:\n",
      "  %1 = fadd double %0, 4.000000e+00\n",
      "  ret double %1\n",
      "}\n",
      "\n",
      "define i64 @julia_h_22925(i64) {\n",
      "top:\n",
      "  %1 = add i64 %0, 4\n",
      "  ret i64 %1\n",
      "}\n"
     ]
    }
   ],
   "source": [
    "h(i) = i + (C + C)\n",
    "code_llvm(h,(Float64,))\n",
    "code_llvm(h,(Int64,))"
   ]
  },
  {
   "cell_type": "markdown",
   "metadata": {},
   "source": [
    "> Julia is a high-level, high-performance dynamic programming language for technical computing, with syntax that is familiar to users of other technical computing environments. It provides a sophisticated compiler, distributed parallel execution, numerical accuracy, and an <font color='red'>extensive mathematical function library</font>\n",
    "\n",
    "A good reference from Julia's website: [http://docs.julialang.org/en/stable/stdlib/]"
   ]
  }
 ],
 "metadata": {
  "anaconda-cloud": {},
  "kernelspec": {
   "display_name": "Julia 0.4.6",
   "language": "julia",
   "name": "julia-0.4"
  },
  "language_info": {
   "file_extension": ".jl",
   "mimetype": "application/julia",
   "name": "julia",
   "version": "0.4.6"
  }
 },
 "nbformat": 4,
 "nbformat_minor": 0
}
