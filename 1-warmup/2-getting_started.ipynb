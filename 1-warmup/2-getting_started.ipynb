{
 "cells": [
  {
   "cell_type": "markdown",
   "metadata": {},
   "source": [
    "### Getting Started with Julia\n",
    "* Current Release: v0.4.6\n",
    "* Nightly builds: v0.6\n",
    "\n",
    "All demonstrations and code used in this tutorial are based on Julia v0.4.6 unless explicitly mentioned\n",
    "\n",
    "Download page: http://julialang.org/downloads/"
   ]
  },
  {
   "cell_type": "markdown",
   "metadata": {},
   "source": [
    "### Where to run Julia from?\n",
    "* (JuliaBox) [https://juliabox.org/] sign in via Google, LinkedIn or GitHub (very similar to Jupyter notebooks)\n",
    "* REPL a command line interface (we'll use the REPL at a later stage in this tutorial)\n",
    "* Jupyter notebook, what we'll be mostly using throughout this tutorial (uses IJulia, a quick demonstration here)\n",
    "* Juno IDE built on Atom (a quick demonstration here)\n",
    "\n",
    "Quoting Mike Innes from JuliaCon2016:\n",
    "\n",
    "    \"Jupyter notebook is for working with data. Juno IDE is for working with code.\""
   ]
  }
 ],
 "metadata": {
  "anaconda-cloud": {},
  "kernelspec": {
   "display_name": "Julia 0.4.6",
   "language": "julia",
   "name": "julia-0.4"
  },
  "language_info": {
   "file_extension": ".jl",
   "mimetype": "application/julia",
   "name": "julia",
   "version": "0.4.6"
  }
 },
 "nbformat": 4,
 "nbformat_minor": 0
}
