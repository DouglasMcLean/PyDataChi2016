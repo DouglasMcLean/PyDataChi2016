{
 "cells": [
  {
   "cell_type": "markdown",
   "metadata": {},
   "source": [
    "### Getting Started with Julia\n",
    "* Current Release: v0.4.6\n",
    "* Nightly builds: v0.6\n",
    "\n",
    "All demonstrations and code used in this tutorial are based on Julia v0.4.6 unless explicitly mentioned\n",
    "\n",
    "Download page: http://julialang.org/downloads/"
   ]
  },
  {
   "cell_type": "markdown",
   "metadata": {},
   "source": [
    "### Where to run Julia from?\n",
    "* JuliaBox [https://juliabox.com/] sign in via Google, LinkedIn or GitHub (very similar to Jupyter notebooks)\n",
    "* REPL a command line interface (http://julialang.org/downloads/)\n",
    "* Jupyter notebook\n",
    "    - Pkg.add(\"IJulia\")\n",
    "    - using IJulia\n",
    "    - notebook()\n",
    "* Juno IDE built on Atom [http://junolab.org/]\n",
    "\n",
    "Quoting Mike Innes from JuliaCon2016:\n",
    "\n",
    "    \"Jupyter notebook is for working with data. Juno IDE is for working with code.\""
   ]
  },
  {
   "cell_type": "markdown",
   "metadata": {},
   "source": [
    "### We will use JuliaBox throughout this tutorial, let's make sure we all have it\n",
    "* Demo of JuliaBox\n",
    "* Let's edit this notebook by creating a julia function to "
   ]
  },
  {
   "cell_type": "code",
   "execution_count": 5,
   "metadata": {
    "collapsed": false
   },
   "outputs": [],
   "source": [
    "# write a function f that adds two numbers and returns 0 if the sum is less than 0 and 1 if the sum is bigger than 0"
   ]
  },
  {
   "cell_type": "code",
   "execution_count": null,
   "metadata": {
    "collapsed": true
   },
   "outputs": [],
   "source": []
  }
 ],
 "metadata": {
  "anaconda-cloud": {},
  "kernelspec": {
   "display_name": "Julia 0.4.6",
   "language": "julia",
   "name": "julia-0.4"
  },
  "language_info": {
   "file_extension": ".jl",
   "mimetype": "application/julia",
   "name": "julia",
   "version": "0.4.6"
  }
 },
 "nbformat": 4,
 "nbformat_minor": 0
}
